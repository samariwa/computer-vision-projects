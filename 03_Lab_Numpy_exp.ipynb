{
  "cells": [
    {
      "cell_type": "markdown",
      "source": [
        "**Please upload the completed notebook to Brightspace** under `Computer Vision > Assignment submission`"
      ],
      "metadata": {
        "id": "3sLlHCYD2mlk"
      }
    },
    {
      "cell_type": "markdown",
      "metadata": {
        "ExecuteTime": {
          "end_time": "2021-02-11T12:22:22.315305Z",
          "start_time": "2021-02-11T12:22:22.310888Z"
        },
        "id": "PjxQ4I6H2hb-"
      },
      "source": [
        "# Numpy"
      ]
    },
    {
      "cell_type": "markdown",
      "metadata": {
        "id": "kQP78g-n2hcC"
      },
      "source": [
        "This notebook includes `numpy` exercises focussing on `broadcasting` and `dot products`."
      ]
    },
    {
      "cell_type": "markdown",
      "metadata": {
        "id": "vejkVfMP2hcD"
      },
      "source": [
        "As in most notebooks, we'll start with some imports of modules that we will need:"
      ]
    },
    {
      "cell_type": "code",
      "execution_count": null,
      "metadata": {
        "ExecuteTime": {
          "end_time": "2021-02-11T15:44:25.620845Z",
          "start_time": "2021-02-11T15:44:25.616347Z"
        },
        "execution": {
          "iopub.execute_input": "2021-02-04T09:46:11.909941Z",
          "iopub.status.busy": "2021-02-04T09:46:11.909479Z",
          "iopub.status.idle": "2021-02-04T09:46:11.914885Z",
          "shell.execute_reply": "2021-02-04T09:46:11.913740Z",
          "shell.execute_reply.started": "2021-02-04T09:46:11.909887Z"
        },
        "id": "uQGDhWta2hcD"
      },
      "outputs": [],
      "source": [
        "import numpy as np"
      ]
    },
    {
      "cell_type": "markdown",
      "metadata": {
        "id": "bNklI1jx2hcE"
      },
      "source": [
        "## Broadcasting and indexing"
      ]
    },
    {
      "cell_type": "markdown",
      "metadata": {
        "id": "VX3rXwAa2hcE"
      },
      "source": [
        "The cell below generates an array of random numbers:"
      ]
    },
    {
      "cell_type": "code",
      "execution_count": null,
      "metadata": {
        "ExecuteTime": {
          "end_time": "2021-02-11T15:44:26.539550Z",
          "start_time": "2021-02-11T15:44:26.523044Z"
        },
        "execution": {
          "iopub.execute_input": "2021-02-04T09:47:45.228762Z",
          "iopub.status.busy": "2021-02-04T09:47:45.228279Z",
          "iopub.status.idle": "2021-02-04T09:47:45.237916Z",
          "shell.execute_reply": "2021-02-04T09:47:45.236839Z",
          "shell.execute_reply.started": "2021-02-04T09:47:45.228707Z"
        },
        "id": "rMWQdDR_2hcF"
      },
      "outputs": [],
      "source": [
        "x = np.random.random((10,14))\n",
        "x.shape"
      ]
    },
    {
      "cell_type": "markdown",
      "metadata": {
        "ExecuteTime": {
          "end_time": "2020-02-13T07:01:54.095651Z",
          "start_time": "2020-02-13T07:01:54.088741Z"
        },
        "id": "rw4y1UOz2hcF"
      },
      "source": [
        "Below, create two random vectors `y` and `z`, whose shapes are such, that the operations in the next cell do not produce any errors:"
      ]
    },
    {
      "cell_type": "code",
      "execution_count": null,
      "metadata": {
        "ExecuteTime": {
          "end_time": "2021-02-11T15:44:29.142845Z",
          "start_time": "2021-02-11T15:44:29.136984Z"
        },
        "execution": {
          "iopub.execute_input": "2021-02-04T09:48:02.321895Z",
          "iopub.status.busy": "2021-02-04T09:48:02.321438Z",
          "iopub.status.idle": "2021-02-04T09:48:02.327988Z",
          "shell.execute_reply": "2021-02-04T09:48:02.326709Z",
          "shell.execute_reply.started": "2021-02-04T09:48:02.321839Z"
        },
        "id": "N9z5AAZm2hcG"
      },
      "outputs": [],
      "source": [
        "#YOUR_CODE_HERE\n"
      ]
    },
    {
      "cell_type": "code",
      "execution_count": null,
      "metadata": {
        "ExecuteTime": {
          "end_time": "2021-02-11T15:44:29.954186Z",
          "start_time": "2021-02-11T15:44:29.949658Z"
        },
        "execution": {
          "iopub.execute_input": "2021-02-04T09:48:21.891102Z",
          "iopub.status.busy": "2021-02-04T09:48:21.890651Z",
          "iopub.status.idle": "2021-02-04T09:48:21.898190Z",
          "shell.execute_reply": "2021-02-04T09:48:21.897116Z",
          "shell.execute_reply.started": "2021-02-04T09:48:21.891046Z"
        },
        "id": "FR2rFPFx2hcG"
      },
      "outputs": [],
      "source": [
        "# test operations\n",
        "_ = x + y\n",
        "_ = x + (y * z)"
      ]
    },
    {
      "cell_type": "markdown",
      "metadata": {
        "id": "jRRgHH9A2hcH"
      },
      "source": [
        "Now, let's try with the following vectors `a` and `b`:"
      ]
    },
    {
      "cell_type": "code",
      "execution_count": null,
      "metadata": {
        "ExecuteTime": {
          "end_time": "2021-02-11T15:44:35.503768Z",
          "start_time": "2021-02-11T15:44:35.495601Z"
        },
        "id": "547U8uxz2hcH"
      },
      "outputs": [],
      "source": [
        "a = np.random.random((5,5))\n",
        "b = np.arange(5)\n",
        "b"
      ]
    },
    {
      "cell_type": "markdown",
      "metadata": {
        "id": "8Gb4mTQM2hcH"
      },
      "source": [
        "In the cell below perform two operations: (1) add `b` to the rows of `a`, (2) add `b` to the columns of `a`:"
      ]
    },
    {
      "cell_type": "code",
      "execution_count": null,
      "metadata": {
        "ExecuteTime": {
          "end_time": "2021-02-11T15:44:48.154492Z",
          "start_time": "2021-02-11T15:44:48.146762Z"
        },
        "id": "wstbT4G52hcI"
      },
      "outputs": [],
      "source": [
        "#YOUR_CODE_HERE\n"
      ]
    },
    {
      "cell_type": "markdown",
      "metadata": {
        "id": "so9WALKp2hcI"
      },
      "source": [
        "Finally, consider the folloiwng array `c`:"
      ]
    },
    {
      "cell_type": "code",
      "execution_count": null,
      "metadata": {
        "ExecuteTime": {
          "end_time": "2021-02-11T15:44:51.926239Z",
          "start_time": "2021-02-11T15:44:51.842826Z"
        },
        "execution": {
          "iopub.execute_input": "2021-02-04T09:55:57.738542Z",
          "iopub.status.busy": "2021-02-04T09:55:57.738092Z",
          "iopub.status.idle": "2021-02-04T09:55:57.747893Z",
          "shell.execute_reply": "2021-02-04T09:55:57.746716Z",
          "shell.execute_reply.started": "2021-02-04T09:55:57.738488Z"
        },
        "id": "1rsnceAP2hcI"
      },
      "outputs": [],
      "source": [
        "c = np.random.randn(3,5,7,9,11,13,17)\n",
        "c.shape"
      ]
    },
    {
      "cell_type": "markdown",
      "metadata": {
        "id": "sJp5aEVC2hcI"
      },
      "source": [
        "In the cell below use indexing to select the 2nd slice along axis 1, the last slice along axis 5, and all numbers along the remaining axes/dimensions, reversing the order along the last axis. Try to make your indexing as compact as possible:"
      ]
    },
    {
      "cell_type": "code",
      "execution_count": null,
      "metadata": {
        "ExecuteTime": {
          "end_time": "2021-02-11T15:45:03.077777Z",
          "start_time": "2021-02-11T15:45:03.012063Z"
        },
        "execution": {
          "iopub.execute_input": "2021-02-04T10:58:51.505218Z",
          "iopub.status.busy": "2021-02-04T10:58:51.504773Z",
          "iopub.status.idle": "2021-02-04T10:58:51.515001Z",
          "shell.execute_reply": "2021-02-04T10:58:51.513925Z",
          "shell.execute_reply.started": "2021-02-04T10:58:51.505164Z"
        },
        "id": "xX0NduI_2hcJ"
      },
      "outputs": [],
      "source": [
        "#YOUR_CODE_HERE\n"
      ]
    },
    {
      "cell_type": "markdown",
      "metadata": {
        "id": "2ZWlZcwS2hcJ"
      },
      "source": [
        "## Dot products"
      ]
    },
    {
      "cell_type": "code",
      "execution_count": null,
      "metadata": {
        "ExecuteTime": {
          "end_time": "2021-02-11T15:45:07.350909Z",
          "start_time": "2021-02-11T15:45:07.347054Z"
        },
        "execution": {
          "iopub.execute_input": "2021-02-04T11:27:02.259108Z",
          "iopub.status.busy": "2021-02-04T11:27:02.258654Z",
          "iopub.status.idle": "2021-02-04T11:27:02.274657Z",
          "shell.execute_reply": "2021-02-04T11:27:02.273319Z",
          "shell.execute_reply.started": "2021-02-04T11:27:02.259053Z"
        },
        "id": "ZTDrTnQb2hcJ"
      },
      "outputs": [],
      "source": [
        "u = np.random.randn(111,17)\n",
        "v = np.random.random((17,2))\n",
        "u.shape, v.shape"
      ]
    },
    {
      "cell_type": "markdown",
      "metadata": {
        "id": "E3PoC0fA2hcJ"
      },
      "source": [
        "Answer the following questions:\n",
        "\n",
        "- Are the two shapes compatible when it comes to the dot product (i.e. can you multiply them)?\n",
        "- If so, what would be the shape of their dot product?\n",
        "\n",
        "In the cell below, try to multiply `u` and `v`, and see if your answers were correct:"
      ]
    },
    {
      "cell_type": "code",
      "execution_count": null,
      "metadata": {
        "ExecuteTime": {
          "end_time": "2021-02-11T15:45:24.701952Z",
          "start_time": "2021-02-11T15:45:24.672943Z"
        },
        "id": "atkwA1DC2hcK"
      },
      "outputs": [],
      "source": [
        "#YOUR_CODE_HERE\n"
      ]
    },
    {
      "cell_type": "markdown",
      "metadata": {
        "id": "czlOI3Fc2hcK"
      },
      "source": [
        "What about multiplying `v` and `u`? Will this work?\n",
        "\n",
        "Try in the cell below:"
      ]
    },
    {
      "cell_type": "code",
      "execution_count": null,
      "metadata": {
        "ExecuteTime": {
          "end_time": "2021-02-11T15:45:29.909023Z",
          "start_time": "2021-02-11T15:45:29.847885Z"
        },
        "execution": {
          "iopub.execute_input": "2021-02-04T11:29:29.265262Z",
          "iopub.status.busy": "2021-02-04T11:29:29.264805Z",
          "iopub.status.idle": "2021-02-04T11:29:29.275883Z",
          "shell.execute_reply": "2021-02-04T11:29:29.274958Z",
          "shell.execute_reply.started": "2021-02-04T11:29:29.265207Z"
        },
        "scrolled": true,
        "id": "LnBzltTg2hcL"
      },
      "outputs": [],
      "source": [
        "#YOUR_CODE_HERE\n"
      ]
    },
    {
      "cell_type": "markdown",
      "metadata": {
        "id": "6n9GPPHn2hcM"
      },
      "source": [
        "If the above didn't work for you, is there a way of multiplying `v` by `u`?\n",
        "\n",
        "Look at their shapes again:"
      ]
    },
    {
      "cell_type": "code",
      "execution_count": null,
      "metadata": {
        "ExecuteTime": {
          "end_time": "2021-02-11T15:45:37.101875Z",
          "start_time": "2021-02-11T15:45:37.095417Z"
        },
        "execution": {
          "iopub.execute_input": "2021-02-04T11:32:50.568405Z",
          "iopub.status.busy": "2021-02-04T11:32:50.567962Z",
          "iopub.status.idle": "2021-02-04T11:32:50.576808Z",
          "shell.execute_reply": "2021-02-04T11:32:50.575564Z",
          "shell.execute_reply.started": "2021-02-04T11:32:50.568351Z"
        },
        "id": "YmsfWuhY2hcM"
      },
      "outputs": [],
      "source": [
        "v.shape, u.shape"
      ]
    },
    {
      "cell_type": "markdown",
      "metadata": {
        "id": "Aaq5aCPF2hcM"
      },
      "source": [
        "Is there an operation which can make them compatible for dot product?\n",
        "\n",
        "In the cell below, examine the shape of the transpose of both `v` and `u`:"
      ]
    },
    {
      "cell_type": "code",
      "execution_count": null,
      "metadata": {
        "ExecuteTime": {
          "end_time": "2021-02-11T15:45:45.248792Z",
          "start_time": "2021-02-11T15:45:45.241350Z"
        },
        "execution": {
          "iopub.execute_input": "2021-02-04T11:32:44.576794Z",
          "iopub.status.busy": "2021-02-04T11:32:44.576372Z",
          "iopub.status.idle": "2021-02-04T11:32:44.583560Z",
          "shell.execute_reply": "2021-02-04T11:32:44.582486Z",
          "shell.execute_reply.started": "2021-02-04T11:32:44.576742Z"
        },
        "id": "ArL3Vv1R2hcM"
      },
      "outputs": [],
      "source": [
        "#YOUR_CODE_HERE\n"
      ]
    },
    {
      "cell_type": "markdown",
      "metadata": {
        "id": "FKvyATo32hcM"
      },
      "source": [
        "Can you multiply them now? If so, what is going to be the shape of the result?"
      ]
    },
    {
      "cell_type": "code",
      "execution_count": null,
      "metadata": {
        "ExecuteTime": {
          "end_time": "2021-02-11T15:45:53.669722Z",
          "start_time": "2021-02-11T15:45:53.662338Z"
        },
        "id": "Lvp6rS-s2hcM"
      },
      "outputs": [],
      "source": [
        "#YOUR_CODE_HERE\n"
      ]
    },
    {
      "cell_type": "markdown",
      "metadata": {
        "id": "Cg9_qXqN2hcN"
      },
      "source": [
        "What do the dot products of `u` and `v`, and `v` and `u` have in common?"
      ]
    },
    {
      "cell_type": "code",
      "execution_count": null,
      "metadata": {
        "ExecuteTime": {
          "end_time": "2021-02-11T15:46:00.865351Z",
          "start_time": "2021-02-11T15:46:00.856479Z"
        },
        "id": "7VMh_hO-2hcN"
      },
      "outputs": [],
      "source": [
        "#YOUR_ANSWER_HERE\n",
        "(u @ v).T == v.T @ u.T  # might not give all 'True' answer due to round-off error\n",
        "\n",
        "# np.max(np.abs((u @ v).T - v.T @ u.T))  # this should be very small though, at the order of 8e-16"
      ]
    },
    {
      "cell_type": "markdown",
      "metadata": {
        "id": "x_pYarFX2hcN"
      },
      "source": [
        "If you've answered correctly then congratulations, you have discovered one of the basic rules of linear algebra!"
      ]
    },
    {
      "cell_type": "code",
      "execution_count": null,
      "metadata": {
        "ExecuteTime": {
          "end_time": "2021-02-11T15:44:19.112428Z",
          "start_time": "2021-02-11T15:44:19.103939Z"
        },
        "execution": {
          "iopub.execute_input": "2021-02-04T11:45:31.856554Z",
          "iopub.status.busy": "2021-02-04T11:45:31.856071Z",
          "iopub.status.idle": "2021-02-04T11:45:31.866742Z",
          "shell.execute_reply": "2021-02-04T11:45:31.865641Z",
          "shell.execute_reply.started": "2021-02-04T11:45:31.856499Z"
        },
        "id": "t1FEzn_32hcO"
      },
      "outputs": [],
      "source": []
    },
    {
      "cell_type": "code",
      "execution_count": null,
      "metadata": {
        "id": "qaIJGX8w2hcO"
      },
      "outputs": [],
      "source": []
    }
  ],
  "metadata": {
    "kernelspec": {
      "display_name": "Python 3",
      "language": "python",
      "name": "python3"
    },
    "language_info": {
      "codemirror_mode": {
        "name": "ipython",
        "version": 3
      },
      "file_extension": ".py",
      "mimetype": "text/x-python",
      "name": "python",
      "nbconvert_exporter": "python",
      "pygments_lexer": "ipython3",
      "version": "3.8.3"
    },
    "toc": {
      "base_numbering": 1,
      "nav_menu": {},
      "number_sections": true,
      "sideBar": true,
      "skip_h1_title": false,
      "title_cell": "Table of Contents",
      "title_sidebar": "Contents",
      "toc_cell": false,
      "toc_position": {},
      "toc_section_display": true,
      "toc_window_display": true
    },
    "toc-autonumbering": true,
    "toc-showcode": false,
    "toc-showmarkdowntxt": false,
    "toc-showtags": false,
    "varInspector": {
      "cols": {
        "lenName": 16,
        "lenType": 16,
        "lenVar": "160"
      },
      "kernels_config": {
        "python": {
          "delete_cmd_postfix": "",
          "delete_cmd_prefix": "del ",
          "library": "var_list.py",
          "varRefreshCmd": "print(var_dic_list())"
        },
        "r": {
          "delete_cmd_postfix": ") ",
          "delete_cmd_prefix": "rm(",
          "library": "var_list.r",
          "varRefreshCmd": "cat(var_dic_list()) "
        }
      },
      "types_to_exclude": [
        "module",
        "function",
        "builtin_function_or_method",
        "instance",
        "_Feature"
      ],
      "window_display": false
    },
    "colab": {
      "provenance": []
    }
  },
  "nbformat": 4,
  "nbformat_minor": 0
}