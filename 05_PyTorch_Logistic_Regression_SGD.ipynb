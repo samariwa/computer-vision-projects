{
  "cells": [
    {
      "cell_type": "markdown",
      "metadata": {
        "id": "_tFB9LDmk4MN"
      },
      "source": [
        "# Imports"
      ]
    },
    {
      "cell_type": "code",
      "execution_count": null,
      "metadata": {
        "ExecuteTime": {
          "end_time": "2021-03-12T06:14:14.454047Z",
          "start_time": "2021-03-12T06:14:14.221754Z"
        },
        "id": "qB8FLyPUk4MO"
      },
      "outputs": [],
      "source": [
        "import numpy as np\n",
        "import matplotlib.pyplot as plt\n",
        "from sklearn.datasets import fetch_openml\n",
        "from tqdm.notebook import trange, tqdm"
      ]
    },
    {
      "cell_type": "code",
      "execution_count": null,
      "metadata": {
        "ExecuteTime": {
          "end_time": "2021-03-12T06:14:15.139905Z",
          "start_time": "2021-03-12T06:14:15.118082Z"
        },
        "id": "1hKJh42ik4MP"
      },
      "outputs": [],
      "source": [
        "def show_img(im, ax=None, figsize=(8,8), title=None):\n",
        "    if not ax: _,ax = plt.subplots(1,1,figsize=figsize)\n",
        "    if len(im.shape)==2: im = np.tile(im[:,:,None], 3)\n",
        "    ax.imshow(im[:,:,::-1]);\n",
        "    ax.xaxis.set_visible(False)\n",
        "    ax.yaxis.set_visible(False)\n",
        "    if title: ax.set_title(title)\n",
        "    return ax"
      ]
    },
    {
      "cell_type": "code",
      "execution_count": null,
      "metadata": {
        "ExecuteTime": {
          "end_time": "2021-03-12T06:14:15.588287Z",
          "start_time": "2021-03-12T06:14:15.563421Z"
        },
        "id": "pQlFltFZk4MQ"
      },
      "outputs": [],
      "source": [
        "def show_imgs(ims, rows=1, figsize=(16,8), title=[None]):\n",
        "    title = title*len(ims) if len(title) == 1 else title\n",
        "    _,ax = plt.subplots(rows, len(ims)//rows, figsize=figsize)\n",
        "    for im,ax_,tit in zip(ims,ax.flatten(),title):\n",
        "        show_img(im,ax_,title=tit)\n",
        "    return ax"
      ]
    },
    {
      "cell_type": "markdown",
      "metadata": {
        "id": "WE2y4_Z1k4MQ"
      },
      "source": [
        "# Datasets"
      ]
    },
    {
      "cell_type": "markdown",
      "metadata": {
        "id": "7FGOOF5pk4MQ"
      },
      "source": [
        "## MNIST"
      ]
    },
    {
      "cell_type": "markdown",
      "metadata": {
        "id": "Bdxxd00Yk4MQ"
      },
      "source": [
        "You have already seen the MNIST dataset in one of the previous notebooks. [MNIST](https://en.wikipedia.org/wiki/MNIST_database) is a dataset of 70,000 hand-written digits, stored as greyscale `28x28` pixel images. It has played a very important role in the field of computer vision, but is now considered a 'toy' dataset, i.e. a dataset that can be used for making sure your algoritm works as expected but not necessarily to build something useful. Existing algorithms achieve over 99.8% classification accuracy on MNIST and are used by banks to automatically recognise the amounts on checks, and by the postal service to automatically recognize post codes.\n",
        "\n",
        "![](https://camo.githubusercontent.com/d440ac2eee1cb3ea33340a2c5f6f15a0878e9275/687474703a2f2f692e7974696d672e636f6d2f76692f3051493378675875422d512f687164656661756c742e6a7067)"
      ]
    },
    {
      "cell_type": "markdown",
      "metadata": {
        "id": "RNEFPZ2Zk4MQ"
      },
      "source": [
        "MNIST dataset can be downloaded from a number of different sources. Many machine learning frameworks include MNIST in their dataset library."
      ]
    },
    {
      "cell_type": "code",
      "execution_count": null,
      "metadata": {
        "ExecuteTime": {
          "end_time": "2021-03-12T06:14:47.249445Z",
          "start_time": "2021-03-12T06:14:21.861957Z"
        },
        "id": "7T81N2gLk4MQ",
        "colab": {
          "base_uri": "https://localhost:8080/"
        },
        "outputId": "842fd3ea-9d20-471f-9736-6dcd8b4530c5"
      },
      "outputs": [
        {
          "output_type": "stream",
          "name": "stdout",
          "text": [
            "CPU times: user 6.73 s, sys: 1.25 s, total: 7.98 s\n",
            "Wall time: 16.1 s\n"
          ]
        }
      ],
      "source": [
        "%%time\n",
        "# takes up to 30s to run for the first time\n",
        "X, y = fetch_openml('mnist_784', version=1, return_X_y=True, as_frame=False, parser='auto')  # parser='auto' because it was giving a warning"
      ]
    },
    {
      "cell_type": "code",
      "execution_count": null,
      "metadata": {
        "ExecuteTime": {
          "end_time": "2021-03-12T06:14:47.277809Z",
          "start_time": "2021-03-12T06:14:47.265592Z"
        },
        "id": "PzPbkfvEk4MS",
        "colab": {
          "base_uri": "https://localhost:8080/"
        },
        "outputId": "a6f95460-c688-4891-9ad5-b3360c613bf0"
      },
      "outputs": [
        {
          "output_type": "execute_result",
          "data": {
            "text/plain": [
              "((70000, 784), (70000,))"
            ]
          },
          "metadata": {},
          "execution_count": 5
        }
      ],
      "source": [
        "X.shape, y.shape"
      ]
    },
    {
      "cell_type": "code",
      "execution_count": null,
      "metadata": {
        "ExecuteTime": {
          "end_time": "2021-03-12T06:14:47.404157Z",
          "start_time": "2021-03-12T06:14:47.291833Z"
        },
        "id": "e5vF4yxak4MS",
        "colab": {
          "base_uri": "https://localhost:8080/"
        },
        "outputId": "8c8c16f5-b526-49de-8c56-50085e391abd"
      },
      "outputs": [
        {
          "output_type": "execute_result",
          "data": {
            "text/plain": [
              "(70000, 28, 28)"
            ]
          },
          "metadata": {},
          "execution_count": 6
        }
      ],
      "source": [
        "Xr = X.reshape(-1,28,28)/255  # what does \"-1\" mean here?\n",
        "Xr.shape"
      ]
    },
    {
      "cell_type": "code",
      "execution_count": null,
      "metadata": {
        "ExecuteTime": {
          "end_time": "2021-03-12T06:14:47.792997Z",
          "start_time": "2021-03-12T06:14:47.421253Z"
        },
        "id": "Ir4aM2wwk4MS",
        "colab": {
          "base_uri": "https://localhost:8080/",
          "height": 664
        },
        "outputId": "a11225c4-67ec-468a-c968-7bc1d0295214"
      },
      "outputs": [
        {
          "output_type": "display_data",
          "data": {
            "text/plain": [
              "<Figure size 1600x800 with 8 Axes>"
            ],
            "image/png": "[encoded data removed]"
          },
          "metadata": {}
        }
      ],
      "source": [
        "ix = np.random.randint(0, len(y), (8,))\n",
        "show_imgs(Xr[ix], rows=2, title=y[ix]);"
      ]
    },
    {
      "cell_type": "markdown",
      "metadata": {
        "id": "IL56eHapk4MV"
      },
      "source": [
        "## Fashion MNIST"
      ]
    },
    {
      "cell_type": "markdown",
      "metadata": {
        "id": "LBNxeSE8k4MW"
      },
      "source": [
        "[Fashion-MNIST](https://github.com/zalandoresearch/fashion-mnist) is a dataset of 70,000 greyscale images of clothing items coming from 10 different classes. It is a direct drop-in replacement for the original MNIST dataset for benchmarking machine learning algorithms. It shares the same image size and structure of training and testing splits.\n",
        "\n",
        "![](https://github.com/zalandoresearch/fashion-mnist/raw/master/doc/img/fashion-mnist-sprite.png)"
      ]
    },
    {
      "cell_type": "code",
      "execution_count": null,
      "metadata": {
        "ExecuteTime": {
          "end_time": "2021-03-12T06:14:52.676324Z",
          "start_time": "2021-03-12T06:14:52.650970Z"
        },
        "id": "ntF77TSek4MW",
        "colab": {
          "base_uri": "https://localhost:8080/"
        },
        "outputId": "2bc5fe36-2984-425a-cd26-d559b138dc97"
      },
      "outputs": [
        {
          "output_type": "execute_result",
          "data": {
            "text/plain": [
              "4"
            ]
          },
          "metadata": {},
          "execution_count": 8
        }
      ],
      "source": [
        "# i2c (integer to class) and c2i (class to integer)\n",
        "i2c = np.array(['T-shirt/top', 'Trouser/pants', 'Pullover shirt', 'Dress',\n",
        "                'Coat', 'Sandal', 'Shirt', 'Sneaker', 'Bag', 'Ankle boot'])\n",
        "c2i = {k:v for v,k in enumerate(i2c)}  # what does 'enumerate' do?\n",
        "c2i['Coat']"
      ]
    },
    {
      "cell_type": "code",
      "execution_count": null,
      "metadata": {
        "ExecuteTime": {
          "end_time": "2021-03-12T06:15:59.237449Z",
          "start_time": "2021-03-12T06:14:53.697747Z"
        },
        "id": "lrfhXCmbk4MW",
        "colab": {
          "base_uri": "https://localhost:8080/"
        },
        "outputId": "6d01f6e4-b412-44d7-d13e-38082c1fc874"
      },
      "outputs": [
        {
          "output_type": "stream",
          "name": "stdout",
          "text": [
            "CPU times: user 8.73 s, sys: 935 ms, total: 9.66 s\n",
            "Wall time: 27.3 s\n"
          ]
        }
      ],
      "source": [
        "%%time\n",
        "# takes up to 30s to run for the first time\n",
        "X, y = fetch_openml('Fashion-MNIST', return_X_y=True, as_frame=False, parser='auto')  # parser='auto' because it was giving a warning"
      ]
    },
    {
      "cell_type": "code",
      "execution_count": null,
      "metadata": {
        "ExecuteTime": {
          "end_time": "2021-03-12T06:15:59.267783Z",
          "start_time": "2021-03-12T06:15:59.255990Z"
        },
        "id": "caPCp2sek4MW",
        "colab": {
          "base_uri": "https://localhost:8080/"
        },
        "outputId": "fed46034-d3b4-41dd-fc9d-a9663d39ea11"
      },
      "outputs": [
        {
          "output_type": "execute_result",
          "data": {
            "text/plain": [
              "((70000, 784), (70000,))"
            ]
          },
          "metadata": {},
          "execution_count": 10
        }
      ],
      "source": [
        "X.shape, y.shape"
      ]
    },
    {
      "cell_type": "code",
      "execution_count": null,
      "metadata": {
        "ExecuteTime": {
          "end_time": "2021-03-12T06:15:59.298039Z",
          "start_time": "2021-03-12T06:15:59.284584Z"
        },
        "id": "0uFjc9SHk4MW",
        "colab": {
          "base_uri": "https://localhost:8080/"
        },
        "outputId": "49679921-8a00-4a8a-f74f-a830c726b053"
      },
      "outputs": [
        {
          "output_type": "execute_result",
          "data": {
            "text/plain": [
              "array(['9', '0', '0', '3', '0', '2', '7', '2', '5', '5'], dtype=object)"
            ]
          },
          "metadata": {},
          "execution_count": 11
        }
      ],
      "source": [
        "y[:10]"
      ]
    },
    {
      "cell_type": "code",
      "execution_count": null,
      "metadata": {
        "ExecuteTime": {
          "end_time": "2021-03-12T06:15:59.333092Z",
          "start_time": "2021-03-12T06:15:59.315614Z"
        },
        "id": "HBExXQXDk4MX",
        "colab": {
          "base_uri": "https://localhost:8080/"
        },
        "outputId": "32f13d83-88f6-425e-bcf8-9cdcbdcb3649"
      },
      "outputs": [
        {
          "output_type": "execute_result",
          "data": {
            "text/plain": [
              "array([9, 0, 0, 3, 0, 2, 7, 2, 5, 5])"
            ]
          },
          "metadata": {},
          "execution_count": 12
        }
      ],
      "source": [
        "y = y.astype(int)\n",
        "y[:10]"
      ]
    },
    {
      "cell_type": "code",
      "execution_count": null,
      "metadata": {
        "ExecuteTime": {
          "end_time": "2021-03-12T06:15:59.362937Z",
          "start_time": "2021-03-12T06:15:59.351222Z"
        },
        "id": "jZ3iqX3Ck4MX",
        "colab": {
          "base_uri": "https://localhost:8080/"
        },
        "outputId": "675abde9-6fd2-4292-f9f4-85bc96742cfc"
      },
      "outputs": [
        {
          "output_type": "execute_result",
          "data": {
            "text/plain": [
              "array(['Ankle boot', 'T-shirt/top', 'T-shirt/top', 'Dress', 'T-shirt/top',\n",
              "       'Pullover shirt', 'Sneaker', 'Pullover shirt', 'Sandal', 'Sandal'],\n",
              "      dtype='<U14')"
            ]
          },
          "metadata": {},
          "execution_count": 13
        }
      ],
      "source": [
        "i2c[y[:10]]"
      ]
    },
    {
      "cell_type": "code",
      "execution_count": null,
      "metadata": {
        "ExecuteTime": {
          "end_time": "2021-03-12T06:15:59.492338Z",
          "start_time": "2021-03-12T06:15:59.379172Z"
        },
        "id": "_r_AdLEck4MX",
        "colab": {
          "base_uri": "https://localhost:8080/"
        },
        "outputId": "95e37e28-84ef-4d64-8417-dd6d4be97e15"
      },
      "outputs": [
        {
          "output_type": "execute_result",
          "data": {
            "text/plain": [
              "(70000, 28, 28)"
            ]
          },
          "metadata": {},
          "execution_count": 14
        }
      ],
      "source": [
        "Xr = X.reshape(-1,28,28)/255\n",
        "Xr.shape"
      ]
    },
    {
      "cell_type": "code",
      "execution_count": null,
      "metadata": {
        "ExecuteTime": {
          "end_time": "2021-03-12T06:15:59.850846Z",
          "start_time": "2021-03-12T06:15:59.509851Z"
        },
        "id": "UikChhznk4MX",
        "colab": {
          "base_uri": "https://localhost:8080/",
          "height": 664
        },
        "outputId": "34b4ac5e-59e3-489a-ebe7-d75962c6d324"
      },
      "outputs": [
        {
          "output_type": "display_data",
          "data": {
            "text/plain": [
              "<Figure size 1600x800 with 8 Axes>"
            ],
            "image/png": "[encoded data removed]"
          },
          "metadata": {}
        }
      ],
      "source": [
        "ix = np.random.randint(0, len(y), (8,))\n",
        "show_imgs(Xr[ix], rows=2, title=i2c[y[ix]]);"
      ]
    },
    {
      "cell_type": "markdown",
      "metadata": {
        "id": "udTTLXQvk4MX"
      },
      "source": [
        "## Train/validation split"
      ]
    },
    {
      "cell_type": "code",
      "execution_count": null,
      "metadata": {
        "ExecuteTime": {
          "end_time": "2021-03-12T06:15:59.879953Z",
          "start_time": "2021-03-12T06:15:59.868948Z"
        },
        "id": "2ViD_onqk4MX"
      },
      "outputs": [],
      "source": [
        "sz_val = 10000"
      ]
    },
    {
      "cell_type": "code",
      "execution_count": null,
      "metadata": {
        "ExecuteTime": {
          "end_time": "2021-03-12T06:15:59.909873Z",
          "start_time": "2021-03-12T06:15:59.896338Z"
        },
        "id": "0Jx6Qtu8k4MX",
        "colab": {
          "base_uri": "https://localhost:8080/"
        },
        "outputId": "91db6055-f4f5-4c3b-fbf9-0caf39c45aa5"
      },
      "outputs": [
        {
          "output_type": "execute_result",
          "data": {
            "text/plain": [
              "array([21971, 16953, 48447, 42344,  4376, 65743, 64717,  2820, 57997,\n",
              "       25377])"
            ]
          },
          "metadata": {},
          "execution_count": 17
        }
      ],
      "source": [
        "np.random.seed(123)\n",
        "ix = np.random.permutation(Xr.shape[0])\n",
        "ix[:10]"
      ]
    },
    {
      "cell_type": "code",
      "execution_count": null,
      "metadata": {
        "ExecuteTime": {
          "end_time": "2021-03-12T06:16:00.447661Z",
          "start_time": "2021-03-12T06:15:59.926204Z"
        },
        "id": "uKZs7Y6uk4MY"
      },
      "outputs": [],
      "source": [
        "Xval, yval = Xr[ix[:sz_val]], y[ix[:sz_val]]\n",
        "Xtr,  ytr  = Xr[ix[sz_val:]], y[ix[sz_val:]]"
      ]
    },
    {
      "cell_type": "code",
      "execution_count": null,
      "metadata": {
        "ExecuteTime": {
          "end_time": "2021-03-12T06:16:00.482011Z",
          "start_time": "2021-03-12T06:16:00.470762Z"
        },
        "id": "BkCHnEGKk4MY",
        "colab": {
          "base_uri": "https://localhost:8080/"
        },
        "outputId": "b1899e39-ceb9-4616-ac2c-6a97882a3bba"
      },
      "outputs": [
        {
          "output_type": "execute_result",
          "data": {
            "text/plain": [
              "((60000, 28, 28), (10000, 28, 28))"
            ]
          },
          "metadata": {},
          "execution_count": 19
        }
      ],
      "source": [
        "Xtr.shape, Xval.shape"
      ]
    },
    {
      "cell_type": "markdown",
      "metadata": {
        "id": "kEj_GizSk4MY"
      },
      "source": [
        "## Standardisation / normalisation"
      ]
    },
    {
      "cell_type": "markdown",
      "metadata": {
        "id": "iGnkY9_3k4MY"
      },
      "source": [
        "Many machine learning algorithms behave better when the data is *standardised*, that is when the mean is $0$ and the standard deviation is $1$. We will subtract off the mean and divide by the standard deviation calculated for our **training set** in order to standardise the data:"
      ]
    },
    {
      "cell_type": "code",
      "execution_count": null,
      "metadata": {
        "ExecuteTime": {
          "end_time": "2021-03-12T06:16:00.697771Z",
          "start_time": "2021-03-12T06:16:00.505241Z"
        },
        "id": "nynZPOnPk4MY",
        "colab": {
          "base_uri": "https://localhost:8080/"
        },
        "outputId": "221f6961-e651-43ba-c776-27e0a7b962c6"
      },
      "outputs": [
        {
          "output_type": "execute_result",
          "data": {
            "text/plain": [
              "(np.float64(0.28607249674869867), np.float64(0.35299758447080976))"
            ]
          },
          "metadata": {},
          "execution_count": 20
        }
      ],
      "source": [
        "μ,σ = Xtr.mean(), Xtr.std()\n",
        "μ,σ"
      ]
    },
    {
      "cell_type": "code",
      "execution_count": null,
      "metadata": {
        "ExecuteTime": {
          "end_time": "2021-03-12T06:16:00.880154Z",
          "start_time": "2021-03-12T06:16:00.721357Z"
        },
        "id": "rNkys5TOk4MY"
      },
      "outputs": [],
      "source": [
        "Xtr_norm  = (Xtr  - μ) / σ\n",
        "Xval_norm = (Xval - μ) / σ"
      ]
    },
    {
      "cell_type": "code",
      "execution_count": null,
      "metadata": {
        "ExecuteTime": {
          "end_time": "2021-03-12T06:16:01.364473Z",
          "start_time": "2021-03-12T06:16:00.905860Z"
        },
        "id": "U-xH7Fplk4MZ",
        "colab": {
          "base_uri": "https://localhost:8080/"
        },
        "outputId": "f0812729-2dda-4604-c708-f182eb1e1642"
      },
      "outputs": [
        {
          "output_type": "execute_result",
          "data": {
            "text/plain": [
              "(np.float64(2.259858211370748e-15),\n",
              " np.float64(0.9999999999999996),\n",
              " np.float64(0.0016583269402254716),\n",
              " np.float64(0.998887041198154))"
            ]
          },
          "metadata": {},
          "execution_count": 22
        }
      ],
      "source": [
        "Xtr_norm.mean(), Xtr_norm.std(), Xval_norm.mean(), Xval_norm.std()"
      ]
    },
    {
      "cell_type": "markdown",
      "metadata": {
        "id": "HRuD5dPqk4MZ"
      },
      "source": [
        "## PyTorch Dataset and Dataloader"
      ]
    },
    {
      "cell_type": "code",
      "execution_count": null,
      "metadata": {
        "ExecuteTime": {
          "end_time": "2021-03-12T06:16:01.902721Z",
          "start_time": "2021-03-12T06:16:01.389506Z"
        },
        "id": "FCj9xQLkk4MZ"
      },
      "outputs": [],
      "source": [
        "import torch as tc\n",
        "from torch.utils.data import Dataset, DataLoader"
      ]
    },
    {
      "cell_type": "code",
      "source": [
        "Dataset??"
      ],
      "metadata": {
        "id": "ZKALtn61h0SZ"
      },
      "execution_count": null,
      "outputs": []
    },
    {
      "cell_type": "code",
      "execution_count": null,
      "metadata": {
        "ExecuteTime": {
          "end_time": "2021-03-12T06:16:01.948252Z",
          "start_time": "2021-03-12T06:16:01.932706Z"
        },
        "id": "hVTurGN0k4Ma"
      },
      "outputs": [],
      "source": [
        "class FashionMNIST(Dataset):\n",
        "    def __init__(self, x, y): self.x, self.y = tc.tensor(x).float(), tc.tensor(y).long()\n",
        "    def __len__(self): return len(self.x)\n",
        "    def __getitem__(self, ix): return self.x[ix], self.y[ix]"
      ]
    },
    {
      "cell_type": "code",
      "execution_count": null,
      "metadata": {
        "ExecuteTime": {
          "end_time": "2021-03-12T06:16:02.120640Z",
          "start_time": "2021-03-12T06:16:01.974682Z"
        },
        "id": "0-zFlKqlk4Ma"
      },
      "outputs": [],
      "source": [
        "tr_ds  = FashionMNIST(Xtr, ytr)\n",
        "val_ds = FashionMNIST(Xval, yval)"
      ]
    },
    {
      "cell_type": "code",
      "execution_count": null,
      "metadata": {
        "ExecuteTime": {
          "end_time": "2021-03-12T06:16:02.192982Z",
          "start_time": "2021-03-12T06:16:02.168419Z"
        },
        "id": "bs_0VDXqk4Ma",
        "colab": {
          "base_uri": "https://localhost:8080/"
        },
        "outputId": "30fdf96a-ff0c-457a-93ed-12d676c67450"
      },
      "outputs": [
        {
          "output_type": "execute_result",
          "data": {
            "text/plain": [
              "60000"
            ]
          },
          "metadata": {},
          "execution_count": 27
        }
      ],
      "source": [
        "len(tr_ds)  # this calls the __len__() function of our dataset object"
      ]
    },
    {
      "cell_type": "code",
      "execution_count": null,
      "metadata": {
        "ExecuteTime": {
          "end_time": "2021-03-12T06:16:02.354973Z",
          "start_time": "2021-03-12T06:16:02.241050Z"
        },
        "id": "mU0VDTq4k4Mb",
        "colab": {
          "base_uri": "https://localhost:8080/",
          "height": 675
        },
        "outputId": "a33f5384-8e17-43c7-e813-1f111f8fafd3"
      },
      "outputs": [
        {
          "output_type": "display_data",
          "data": {
            "text/plain": [
              "<Figure size 800x800 with 1 Axes>"
            ],
            "image/png": "[encoded data removed]"
          },
          "metadata": {}
        }
      ],
      "source": [
        "show_img(tr_ds[1][0], title=i2c[tr_ds[1][1]]);  # [i] calls the __getitem__(i) function of our dataset object"
      ]
    },
    {
      "cell_type": "markdown",
      "metadata": {
        "id": "kDFkvhK3k4Mb"
      },
      "source": [
        "The batch size denotes the number of examples/images we will use for gradient calculation. The choices are:\n",
        "- `bs=60000` (i.e. the whole training set) - Gradient Descent (GD), used for smaller datasets when neural networks were popular in the 1980s\n",
        "- `bs=1` - (i.e. one training example) - Stochastic Gradient Descent (SGD), not really used because the gradients are noisy and it's inefficient\n",
        "- `1 < bs < 4096*` - mini-batch SGD (this is what people mean when they say SGD these days)\n",
        "\n",
        "*there's really no upper bound here apart from the trainig set size, but 59800 wouldn't make much sense; you'd normally go for as big a batch, as can fit in your GPU memory\n",
        "\n",
        "Nvidia GPUs like tensor sizes to be `multiples of 8` for maximum performance."
      ]
    },
    {
      "cell_type": "code",
      "execution_count": null,
      "metadata": {
        "ExecuteTime": {
          "end_time": "2021-03-12T06:16:02.403990Z",
          "start_time": "2021-03-12T06:16:02.388020Z"
        },
        "id": "_WO6lbuuk4Mb"
      },
      "outputs": [],
      "source": [
        "bs = 8"
      ]
    },
    {
      "cell_type": "code",
      "execution_count": null,
      "metadata": {
        "ExecuteTime": {
          "end_time": "2021-03-12T06:16:02.452960Z",
          "start_time": "2021-03-12T06:16:02.436060Z"
        },
        "id": "WAd_LoD8k4Mb"
      },
      "outputs": [],
      "source": [
        "tr_dl  = DataLoader(tr_ds,  batch_size=bs,   shuffle=True,  num_workers=2) # set num_workers to your CPU core count\n",
        "val_dl = DataLoader(val_ds, batch_size=2*bs, shuffle=False, num_workers=2)"
      ]
    },
    {
      "cell_type": "code",
      "execution_count": null,
      "metadata": {
        "ExecuteTime": {
          "end_time": "2021-03-12T06:16:02.533922Z",
          "start_time": "2021-03-12T06:16:02.485310Z"
        },
        "scrolled": false,
        "id": "3LBqKDJck4Mb",
        "colab": {
          "base_uri": "https://localhost:8080/"
        },
        "outputId": "3106bbe7-8a92-4664-ea0d-f9157367c2f4"
      },
      "outputs": [
        {
          "output_type": "execute_result",
          "data": {
            "text/plain": [
              "(torch.Size([8, 28, 28]), tensor([8, 5, 0, 3, 6, 1, 7, 0]))"
            ]
          },
          "metadata": {},
          "execution_count": 31
        }
      ],
      "source": [
        "xb, yb = next(iter(tr_dl))\n",
        "xb.shape, yb"
      ]
    },
    {
      "cell_type": "code",
      "execution_count": null,
      "metadata": {
        "ExecuteTime": {
          "end_time": "2021-03-12T06:16:02.598570Z",
          "start_time": "2021-03-12T06:16:02.580994Z"
        },
        "id": "Ss2sa7dsk4Mc",
        "colab": {
          "base_uri": "https://localhost:8080/"
        },
        "outputId": "39eda4db-253e-4a35-a212-5d7af7df9c26"
      },
      "outputs": [
        {
          "output_type": "execute_result",
          "data": {
            "text/plain": [
              "(torch.Size([16, 28, 28]),\n",
              " tensor([0, 1, 1, 9, 8, 9, 5, 3, 4, 3, 2, 8, 5, 8, 4, 4]))"
            ]
          },
          "metadata": {},
          "execution_count": 32
        }
      ],
      "source": [
        "xb, yb = next(iter(val_dl))\n",
        "xb.shape, yb"
      ]
    },
    {
      "cell_type": "code",
      "execution_count": null,
      "metadata": {
        "ExecuteTime": {
          "end_time": "2021-03-12T06:16:02.652887Z",
          "start_time": "2021-03-12T06:16:02.633259Z"
        },
        "id": "yder8bdmk4Mc",
        "colab": {
          "base_uri": "https://localhost:8080/"
        },
        "outputId": "968dd4ca-7a08-48fe-a3cd-79220213ad65"
      },
      "outputs": [
        {
          "output_type": "execute_result",
          "data": {
            "text/plain": [
              "array(['T-shirt/top', 'Trouser/pants', 'Trouser/pants', 'Ankle boot',\n",
              "       'Bag', 'Ankle boot', 'Sandal', 'Dress', 'Coat', 'Dress',\n",
              "       'Pullover shirt', 'Bag', 'Sandal', 'Bag', 'Coat', 'Coat'],\n",
              "      dtype='<U14')"
            ]
          },
          "metadata": {},
          "execution_count": 33
        }
      ],
      "source": [
        "i2c[yb]"
      ]
    },
    {
      "cell_type": "markdown",
      "metadata": {
        "id": "dESHNG7ek4Mc"
      },
      "source": [
        "# Logistic Regression and Neural Networks"
      ]
    },
    {
      "cell_type": "markdown",
      "metadata": {
        "id": "W14Mbtk9k4Mc"
      },
      "source": [
        "Logistic Regression is an example of a simplest, shallow neural network.\n",
        "\n",
        "A **neural network** is an [infinitely flexible](https://en.wikipedia.org/wiki/Universal_approximation_theorem) function consisting of layers. A layer is a linear function such as convolution or matrix multiplication followed by a non-linearity (also known as *activation*). Non-linearity is essential here as composition of linear functions doesn't make sense!"
      ]
    },
    {
      "cell_type": "code",
      "execution_count": null,
      "metadata": {
        "ExecuteTime": {
          "end_time": "2021-03-12T06:16:02.701385Z",
          "start_time": "2021-03-12T06:16:02.686458Z"
        },
        "id": "_cxQno2rk4Mc"
      },
      "outputs": [],
      "source": [
        "import torch as tc\n",
        "import torch.nn as nn        # layers\n",
        "import torch.optim as optim  # optimisers"
      ]
    },
    {
      "cell_type": "markdown",
      "metadata": {
        "id": "YoBYWIMUk4Md"
      },
      "source": [
        "## The model"
      ]
    },
    {
      "cell_type": "code",
      "execution_count": null,
      "metadata": {
        "ExecuteTime": {
          "end_time": "2021-03-12T06:16:04.582026Z",
          "start_time": "2021-03-12T06:16:02.736960Z"
        },
        "id": "BMDW_KrWk4Md"
      },
      "outputs": [],
      "source": [
        "net = nn.Sequential(            # PyTorch's way of composing functions\n",
        "    nn.Linear(28*28, 10),       # 1st function/layer\n",
        "    nn.LogSoftmax(dim=1)        # 2nd function/layer\n",
        ").cuda()                        # move the network to default CUDA device (GPU), see torch.cuda.set_device(device)"
      ]
    },
    {
      "cell_type": "markdown",
      "metadata": {
        "id": "7_YiWzlzk4Md"
      },
      "source": [
        "Each input is a vector of size `28*28` pixels and our output is of size `10` (since there are 10 classes).\n",
        "\n",
        "The output of the linear layer generates predictions, which are then converted to comparative probabilities via the [Softmax](https://livebournemouthac-my.sharepoint.com/:x:/g/personal/mbudka_bournemouth_ac_uk/Ed1lRr-F56pMtBlLr4tDCTIBDQY_4Abt1IwSOBr73nxvpA?e=cEcp92) function.\n",
        "\n",
        "Most of the time, the last layer will have the same number of outputs as the number of classes (10 in our case). The exception is two-class problem, where you don't need 2 outputs."
      ]
    },
    {
      "cell_type": "markdown",
      "metadata": {
        "id": "RuwdTPYLk4Md"
      },
      "source": [
        "## The loss"
      ]
    },
    {
      "cell_type": "code",
      "execution_count": null,
      "metadata": {
        "ExecuteTime": {
          "end_time": "2021-03-12T06:16:04.624311Z",
          "start_time": "2021-03-12T06:16:04.611699Z"
        },
        "id": "GQSOeZ3wk4Md"
      },
      "outputs": [],
      "source": [
        "loss = nn.NLLLoss()"
      ]
    },
    {
      "cell_type": "markdown",
      "metadata": {
        "id": "l61s9KkPk4Md"
      },
      "source": [
        "From documentation of `NLLoss`:\n",
        "\n",
        "Obtaining log-probabilities in a neural network is easily achieved by adding a  `LogSoftmax`  layer in the last layer of your network.\n",
        "You may use `CrossEntropyLoss` instead, if you prefer not to add an extra layer.\n",
        "\n",
        "The `target` that this loss expects should be a class index in the range `[0, C-1]` where `C = number of classes`."
      ]
    },
    {
      "cell_type": "markdown",
      "metadata": {
        "id": "CiNMz2eik4Md"
      },
      "source": [
        "Let's see what `LogSoftmax` and `NLLLoss` do:"
      ]
    },
    {
      "cell_type": "code",
      "execution_count": null,
      "metadata": {
        "ExecuteTime": {
          "end_time": "2021-03-12T06:16:04.666134Z",
          "start_time": "2021-03-12T06:16:04.652173Z"
        },
        "id": "AxMPqU9Ak4Md",
        "colab": {
          "base_uri": "https://localhost:8080/"
        },
        "outputId": "565bdba1-6d66-44a3-aae0-c722cfd760aa"
      },
      "outputs": [
        {
          "output_type": "execute_result",
          "data": {
            "text/plain": [
              "(torch.Size([1, 3]), tensor([[1., 2., 3.]]))"
            ]
          },
          "metadata": {},
          "execution_count": 45
        }
      ],
      "source": [
        "# dummy input\n",
        "inp = tc.tensor([[1,2,3]], requires_grad=False, dtype=tc.float)\n",
        "inp.shape, inp"
      ]
    },
    {
      "cell_type": "code",
      "execution_count": null,
      "metadata": {
        "ExecuteTime": {
          "end_time": "2021-03-12T06:16:04.719846Z",
          "start_time": "2021-03-12T06:16:04.694069Z"
        },
        "id": "ZGYPqZA6k4Md",
        "colab": {
          "base_uri": "https://localhost:8080/"
        },
        "outputId": "44c85932-11d0-4ca1-84e5-8a1e014a84c5"
      },
      "outputs": [
        {
          "output_type": "execute_result",
          "data": {
            "text/plain": [
              "tensor([[-2.4076, -1.4076, -0.4076]])"
            ]
          },
          "metadata": {},
          "execution_count": 46
        }
      ],
      "source": [
        "m = nn.LogSoftmax(dim=1)\n",
        "o = m(inp)  # you can use a layer like a function!\n",
        "o"
      ]
    },
    {
      "cell_type": "code",
      "execution_count": null,
      "metadata": {
        "ExecuteTime": {
          "end_time": "2021-03-12T06:16:04.791097Z",
          "start_time": "2021-03-12T06:16:04.754998Z"
        },
        "id": "pVOVR2x9k4Md",
        "colab": {
          "base_uri": "https://localhost:8080/"
        },
        "outputId": "f2b9225d-9112-4746-88ae-6af9e97631aa"
      },
      "outputs": [
        {
          "output_type": "execute_result",
          "data": {
            "text/plain": [
              "tensor([[-2.4076, -1.4076, -0.4076]])"
            ]
          },
          "metadata": {},
          "execution_count": 47
        }
      ],
      "source": [
        "e = inp.exp()  # equivalent tc.exp(inp)\n",
        "(e/e.sum()).log()"
      ]
    },
    {
      "cell_type": "code",
      "execution_count": null,
      "metadata": {
        "ExecuteTime": {
          "end_time": "2021-03-12T06:16:04.838224Z",
          "start_time": "2021-03-12T06:16:04.824118Z"
        },
        "id": "-0mgf3e4k4Me",
        "colab": {
          "base_uri": "https://localhost:8080/"
        },
        "outputId": "d13bcd2f-5404-4391-9c7c-e52a701492c8"
      },
      "outputs": [
        {
          "output_type": "execute_result",
          "data": {
            "text/plain": [
              "tensor([[-2.4076, -1.4076, -0.4076]])"
            ]
          },
          "metadata": {},
          "execution_count": 48
        }
      ],
      "source": [
        "# numerical stability trick / exp normalise\n",
        "inp_st = inp - inp.max()\n",
        "\n",
        "e = inp_st.exp()\n",
        "(e/e.sum()).log()"
      ]
    },
    {
      "cell_type": "code",
      "execution_count": null,
      "metadata": {
        "ExecuteTime": {
          "end_time": "2021-03-12T06:16:04.880202Z",
          "start_time": "2021-03-12T06:16:04.867061Z"
        },
        "id": "MH6X0UmEk4Me",
        "colab": {
          "base_uri": "https://localhost:8080/"
        },
        "outputId": "329fa747-428f-4067-b417-c749ae3f2387"
      },
      "outputs": [
        {
          "output_type": "execute_result",
          "data": {
            "text/plain": [
              "tensor([1])"
            ]
          },
          "metadata": {},
          "execution_count": 49
        }
      ],
      "source": [
        "# dummy target\n",
        "tar = tc.tensor([1])\n",
        "tar"
      ]
    },
    {
      "cell_type": "code",
      "execution_count": null,
      "metadata": {
        "ExecuteTime": {
          "end_time": "2021-03-12T06:16:04.938889Z",
          "start_time": "2021-03-12T06:16:04.909046Z"
        },
        "id": "-sF5josdk4Me",
        "colab": {
          "base_uri": "https://localhost:8080/"
        },
        "outputId": "37d2ecfd-9070-4bcb-999b-f931bd91979a"
      },
      "outputs": [
        {
          "output_type": "execute_result",
          "data": {
            "text/plain": [
              "tensor(1.4076)"
            ]
          },
          "metadata": {},
          "execution_count": 50
        }
      ],
      "source": [
        "loss(o, tar)"
      ]
    },
    {
      "cell_type": "code",
      "execution_count": null,
      "metadata": {
        "ExecuteTime": {
          "end_time": "2021-03-12T06:16:04.984248Z",
          "start_time": "2021-03-12T06:16:04.970884Z"
        },
        "id": "i5yo_VkIk4Me",
        "colab": {
          "base_uri": "https://localhost:8080/"
        },
        "outputId": "4d9e8cb4-14ed-4c93-d47c-33a8bc4bcdc6"
      },
      "outputs": [
        {
          "output_type": "execute_result",
          "data": {
            "text/plain": [
              "tensor(1.4076)"
            ]
          },
          "metadata": {},
          "execution_count": 51
        }
      ],
      "source": [
        "nn.CrossEntropyLoss(reduction='mean')(inp, tar)"
      ]
    },
    {
      "cell_type": "markdown",
      "metadata": {
        "id": "3UiT0Koik4Me"
      },
      "source": [
        "The formula for [CrossEntropyLoss](https://pytorch.org/docs/stable/generated/torch.nn.CrossEntropyLoss.html#torch.nn.CrossEntropyLoss)."
      ]
    },
    {
      "cell_type": "markdown",
      "metadata": {
        "id": "YqP2AU9ak4Me"
      },
      "source": [
        "## The optimiser and training loop"
      ]
    },
    {
      "cell_type": "code",
      "execution_count": null,
      "metadata": {
        "ExecuteTime": {
          "end_time": "2021-03-12T06:16:05.029734Z",
          "start_time": "2021-03-12T06:16:05.015781Z"
        },
        "id": "-DHPTTmWk4Me",
        "colab": {
          "base_uri": "https://localhost:8080/"
        },
        "outputId": "2a673f42-8961-44e7-9870-5d68e58200f7"
      },
      "outputs": [
        {
          "output_type": "execute_result",
          "data": {
            "text/plain": [
              "SGD (\n",
              "Parameter Group 0\n",
              "    dampening: 0\n",
              "    differentiable: False\n",
              "    foreach: None\n",
              "    fused: None\n",
              "    lr: 0.003\n",
              "    maximize: False\n",
              "    momentum: 0.9\n",
              "    nesterov: False\n",
              "    weight_decay: 0.001\n",
              ")"
            ]
          },
          "metadata": {},
          "execution_count": 55
        }
      ],
      "source": [
        "opt = optim.SGD(net.parameters(), 3e-3, momentum=0.9, weight_decay=1e-3)\n",
        "opt"
      ]
    },
    {
      "cell_type": "code",
      "execution_count": null,
      "metadata": {
        "ExecuteTime": {
          "end_time": "2021-03-12T06:16:05.125150Z",
          "start_time": "2021-03-12T06:16:05.058707Z"
        },
        "id": "kIAgwZh3k4Me",
        "colab": {
          "base_uri": "https://localhost:8080/"
        },
        "outputId": "83888397-9533-45b4-bde5-df78cb5081c5"
      },
      "outputs": [
        {
          "output_type": "execute_result",
          "data": {
            "text/plain": [
              "[Parameter containing:\n",
              " tensor([[-0.0216,  0.0241, -0.0295,  ..., -0.0045,  0.0354, -0.0264],\n",
              "         [ 0.0328,  0.0345, -0.0195,  ..., -0.0232, -0.0301,  0.0040],\n",
              "         [-0.0178, -0.0036, -0.0138,  ...,  0.0349, -0.0046,  0.0038],\n",
              "         ...,\n",
              "         [ 0.0092, -0.0172,  0.0185,  ..., -0.0117,  0.0209, -0.0236],\n",
              "         [ 0.0177, -0.0076,  0.0337,  ..., -0.0106,  0.0142,  0.0284],\n",
              "         [ 0.0353,  0.0348,  0.0266,  ...,  0.0074, -0.0166,  0.0168]],\n",
              "        device='cuda:0', requires_grad=True),\n",
              " Parameter containing:\n",
              " tensor([ 0.0198, -0.0272,  0.0329, -0.0156, -0.0143,  0.0276, -0.0109, -0.0135,\n",
              "         -0.0123, -0.0116], device='cuda:0', requires_grad=True)]"
            ]
          },
          "metadata": {},
          "execution_count": 56
        }
      ],
      "source": [
        "list(net.parameters())"
      ]
    },
    {
      "cell_type": "code",
      "execution_count": null,
      "metadata": {
        "ExecuteTime": {
          "end_time": "2021-03-12T06:16:20.408490Z",
          "start_time": "2021-03-12T06:16:20.385870Z"
        },
        "id": "HgjbGc9tk4Me",
        "colab": {
          "base_uri": "https://localhost:8080/"
        },
        "outputId": "43ba737f-cb45-412c-be90-dbea5f86f4e5"
      },
      "outputs": [
        {
          "output_type": "execute_result",
          "data": {
            "text/plain": [
              "([7840, 10], 7850)"
            ]
          },
          "metadata": {},
          "execution_count": 57
        }
      ],
      "source": [
        "# how many parameters do we have?\n",
        "t = [o.numel() for o in net.parameters()]\n",
        "t, sum(t)"
      ]
    },
    {
      "cell_type": "code",
      "execution_count": null,
      "metadata": {
        "ExecuteTime": {
          "end_time": "2021-03-12T06:16:21.985824Z",
          "start_time": "2021-03-12T06:16:21.530385Z"
        },
        "id": "PaHkLjoDk4Me",
        "colab": {
          "base_uri": "https://localhost:8080/",
          "height": 66,
          "referenced_widgets": [
            "4b6cd9216494402ba8fd1412881cbe84",
            "b663d31a754342aab8445e932edbc765",
            "442fd16e7c664f0988103e22334dfa02",
            "dc1b3eb742c14e7a9e0c1915500fc79f",
            "1fa586c99fb74db28fc30ba71db61c37",
            "3aefe524d1ff48d08e54d92ebf1efead",
            "793568e7ddf641f18030e38e09ff903b",
            "0470624d344c400d91e64b12c62e94c7",
            "198af96ebd2d43ac8a99d2a83b653b3b",
            "0810d3f7720047a4bc9c9b09dbe7b05a",
            "f30eb9973f0f49718f3035d6eb531969"
          ]
        },
        "outputId": "8d57c501-e258-49a3-8ba4-1f35d752a522"
      },
      "outputs": [
        {
          "output_type": "display_data",
          "data": {
            "text/plain": [
              "  0%|          | 0/100 [00:00<?, ?it/s]"
            ],
            "application/vnd.jupyter.widget-view+json": {
              "version_major": 2,
              "version_minor": 0,
              "model_id": "4b6cd9216494402ba8fd1412881cbe84"
            }
          },
          "metadata": {}
        },
        {
          "output_type": "stream",
          "name": "stdout",
          "text": [
            "loss: 1.3227516412734985\t accuracy: 0.375\n"
          ]
        }
      ],
      "source": [
        "dl = iter(tr_dl)\n",
        "\n",
        "for _ in trange(100):\n",
        "    xb, yb = next(dl)\n",
        "    xb, yb = xb.cuda(), yb.cuda()  # w/o this we'll get an error (network on GPU, data on CPU)\n",
        "\n",
        "    xb = xb.view(xb.shape[0], -1) # .view() is equivalent to .reshape() in numpy; torch.reshape also exists!\n",
        "    y_ = net(xb)  # any PyTorch module can be called like a function\n",
        "    l = loss(y_, yb)\n",
        "\n",
        "    opt.zero_grad() # unless you want gradient accumulation\n",
        "    l.backward()    # calculate gradients with respect to *all* network parameters (which have require_grad==True)\n",
        "    opt.step()      # update the params in the direction of negative gradient\n",
        "\n",
        "acc = (y_.max(dim=1)[1] == yb).float().mean()\n",
        "print(f'loss: {l.data}\\t accuracy: {acc}')"
      ]
    },
    {
      "cell_type": "code",
      "execution_count": null,
      "metadata": {
        "ExecuteTime": {
          "end_time": "2021-03-12T06:16:26.362878Z",
          "start_time": "2021-03-12T06:16:26.337636Z"
        },
        "id": "-gm8ilg3k4Mf"
      },
      "outputs": [],
      "source": [
        "xb, yb = next(iter(val_dl))\n",
        "xb, yb = xb.cuda(), yb.cuda()\n",
        "y_ = net(xb.view(xb.shape[0], -1))\n",
        "preds = y_.max(dim=1)[1].cpu()  # this is actually argmax! torch.max() returns both max and argmax in a tuple"
      ]
    },
    {
      "cell_type": "code",
      "execution_count": null,
      "metadata": {
        "ExecuteTime": {
          "end_time": "2021-03-12T06:16:27.996752Z",
          "start_time": "2021-03-12T06:16:27.813773Z"
        },
        "id": "KEpsKvWJk4Mf",
        "colab": {
          "base_uri": "https://localhost:8080/",
          "height": 424
        },
        "outputId": "2794c21a-e77b-4649-cbd1-ba5ddb2d942e"
      },
      "outputs": [
        {
          "output_type": "display_data",
          "data": {
            "text/plain": [
              "<Figure size 1600x800 with 3 Axes>"
            ],
            "image/png": "[encoded data removed]"
          },
          "metadata": {}
        }
      ],
      "source": [
        "xb = xb.cpu()\n",
        "show_imgs(xb[:3], title=i2c[preds[:3]]);"
      ]
    },
    {
      "cell_type": "markdown",
      "metadata": {
        "id": "K678C4UCk4Mf"
      },
      "source": [
        "# Logistic Regression and SGD from scratch"
      ]
    },
    {
      "cell_type": "markdown",
      "metadata": {
        "id": "H6adFWNDk4Mf"
      },
      "source": [
        "## Logistic Regression"
      ]
    },
    {
      "cell_type": "code",
      "execution_count": null,
      "metadata": {
        "ExecuteTime": {
          "end_time": "2021-03-12T06:16:31.087652Z",
          "start_time": "2021-03-12T06:16:31.063230Z"
        },
        "id": "LrotV8Mkk4Mf"
      },
      "outputs": [],
      "source": [
        "import pdb  # Python debugger"
      ]
    },
    {
      "cell_type": "code",
      "execution_count": null,
      "metadata": {
        "ExecuteTime": {
          "end_time": "2021-03-12T06:16:32.800241Z",
          "start_time": "2021-03-12T06:16:32.772717Z"
        },
        "id": "V_1JAa7dk4Mf"
      },
      "outputs": [],
      "source": [
        "class MyLogReg(nn.Module):  # our own 'layer' must inherit from nn.Module\n",
        "    def __init__(self):\n",
        "        super().__init__()\n",
        "        self.w = nn.Parameter(tc.randn(28*28,10)/(28*28))  # all nn.Parameter() objects will be registered by PyTorch automatically\n",
        "        self.b = nn.Parameter(tc.zeros((10,)))             # if we later do module.parameters() they will be there\n",
        "\n",
        "    def forward(self, x):  # forward pass -> need this method in every nn.Module\n",
        "        x = x.view(x.shape[0], -1)\n",
        "        x = x @ self.w + self.b  # '@' is equivalent to torch.mm(x,self.w) or torch.dot(x,self.w)\n",
        "        # pdb.set_trace()\n",
        "#         x -= x.max()\n",
        "#         x -= x.max(dim=1,keepdim=True)[0]\n",
        "        x = tc.log(tc.exp(x)/(tc.exp(x).sum(dim=1)[:,None])) # LogSoftmax\n",
        "        return x"
      ]
    },
    {
      "cell_type": "code",
      "execution_count": null,
      "metadata": {
        "ExecuteTime": {
          "end_time": "2021-03-12T06:16:35.647533Z",
          "start_time": "2021-03-12T06:16:35.615103Z"
        },
        "id": "Sygo4Q2Qk4Mf"
      },
      "outputs": [],
      "source": [
        "net = MyLogReg().cuda()\n",
        "opt = optim.SGD(net.parameters(), 3e-3, momentum=0.9, weight_decay=1e-3)"
      ]
    },
    {
      "cell_type": "code",
      "source": [
        "list(net.parameters())"
      ],
      "metadata": {
        "colab": {
          "base_uri": "https://localhost:8080/"
        },
        "id": "szbKVn2gK_F5",
        "outputId": "e8574745-c12a-41be-ca5a-1e544cac577c"
      },
      "execution_count": null,
      "outputs": [
        {
          "output_type": "execute_result",
          "data": {
            "text/plain": [
              "[Parameter containing:\n",
              " tensor([[ 0.0005, -0.0006,  0.0006,  ...,  0.0001,  0.0015, -0.0032],\n",
              "         [-0.0004,  0.0003,  0.0009,  ..., -0.0005, -0.0004, -0.0022],\n",
              "         [-0.0014, -0.0011,  0.0023,  ...,  0.0013,  0.0016, -0.0001],\n",
              "         ...,\n",
              "         [ 0.0011, -0.0016, -0.0005,  ...,  0.0012,  0.0003,  0.0024],\n",
              "         [-0.0002, -0.0002, -0.0010,  ..., -0.0013, -0.0003, -0.0013],\n",
              "         [ 0.0004, -0.0007,  0.0003,  ..., -0.0012,  0.0002,  0.0013]],\n",
              "        device='cuda:0', requires_grad=True),\n",
              " Parameter containing:\n",
              " tensor([0., 0., 0., 0., 0., 0., 0., 0., 0., 0.], device='cuda:0',\n",
              "        requires_grad=True)]"
            ]
          },
          "metadata": {},
          "execution_count": 72
        }
      ]
    },
    {
      "cell_type": "code",
      "execution_count": null,
      "metadata": {
        "ExecuteTime": {
          "end_time": "2021-03-12T06:16:36.712437Z",
          "start_time": "2021-03-12T06:16:36.542533Z"
        },
        "id": "n1-wVX1sk4Mf",
        "colab": {
          "base_uri": "https://localhost:8080/",
          "height": 223,
          "referenced_widgets": [
            "00f622e12fc14cd9a2cf1112b20dec2b",
            "a8fba10352f4467c8ad9977f5c29b04b",
            "e30d9a12ed5845f3b3d99f6e426578be",
            "06a8b57387704c65a0e9ac5c9fecc872",
            "9ff706b291004f9c9f831e727b550dd9",
            "8b71f6be4ae84c78a0c0d5c1fea87559",
            "3e9a3c3f31aa420d851d8cc5abbdb33a",
            "658351bb8da2428a82238b80b5925ccd",
            "93da1215c67a4e349c32d381b0cbac28",
            "d741e9e2b282405d971012c99064f1fa",
            "430f1a6eeb6440f1a78b7252aaf7f0cf"
          ]
        },
        "outputId": "c74958ff-a62a-466d-ac37-20e3f9b9f58f"
      },
      "outputs": [
        {
          "output_type": "display_data",
          "data": {
            "text/plain": [
              "  0%|          | 0/100 [00:00<?, ?it/s]"
            ],
            "application/vnd.jupyter.widget-view+json": {
              "version_major": 2,
              "version_minor": 0,
              "model_id": "00f622e12fc14cd9a2cf1112b20dec2b"
            }
          },
          "metadata": {}
        },
        {
          "output_type": "stream",
          "name": "stdout",
          "text": [
            "loss: 2.3011\t accuracy: 0.125\n",
            "loss: 1.9314\t accuracy: 0.375\n",
            "loss: 1.8912\t accuracy: 0.375\n",
            "loss: 1.6828\t accuracy: 0.25\n",
            "loss: 1.1883\t accuracy: 0.625\n",
            "loss: 1.1502\t accuracy: 0.875\n",
            "loss: 1.3684\t accuracy: 0.375\n",
            "loss: 0.9595\t accuracy: 0.75\n",
            "loss: 1.1757\t accuracy: 0.75\n",
            "loss: 0.9773\t accuracy: 0.75\n"
          ]
        }
      ],
      "source": [
        "dl = iter(tr_dl)\n",
        "\n",
        "for i in trange(100):\n",
        "    xb, yb = next(dl)\n",
        "    xb, yb = xb.cuda(), yb.cuda()\n",
        "    y_ = net(xb)\n",
        "    l = loss(y_, yb)\n",
        "    if i % 10 == 0:  # every 10 batches show accuracy for this single batch (will be noisy)\n",
        "        acc = (y_.max(dim=1)[1] == yb).float().mean()\n",
        "        print(f'loss: {l.data:0.4f}\\t accuracy: {acc}')\n",
        "    opt.zero_grad()\n",
        "    l.backward()\n",
        "    opt.step()"
      ]
    },
    {
      "cell_type": "markdown",
      "metadata": {
        "id": "aXEubhFqk4Mf"
      },
      "source": [
        "## Stochastic Gradient Descent"
      ]
    },
    {
      "cell_type": "code",
      "execution_count": null,
      "metadata": {
        "ExecuteTime": {
          "end_time": "2021-03-12T06:16:45.717227Z",
          "start_time": "2021-03-12T06:16:45.692245Z"
        },
        "id": "7TcujiD9k4Mf"
      },
      "outputs": [],
      "source": [
        "net = MyLogReg().cuda()\n",
        "loss = nn.NLLLoss()\n",
        "lr = 1e-2\n",
        "epochs = 3"
      ]
    },
    {
      "cell_type": "code",
      "execution_count": null,
      "metadata": {
        "ExecuteTime": {
          "end_time": "2021-03-12T06:17:54.662066Z",
          "start_time": "2021-03-12T06:17:41.935098Z"
        },
        "id": "sgchb3-zk4Mf",
        "colab": {
          "base_uri": "https://localhost:8080/",
          "height": 101,
          "referenced_widgets": [
            "f45a2926f1694ea1a574186d31d1f54c",
            "4fdadecad2954fda919d9d30d2b223b3",
            "9bc4e5fe0b77472dba56399740bda88b",
            "a92b6854b8f54c15b90ee7d0abf490ce",
            "6621168bf9b545e8b1a9b76805fd84ae",
            "9903e50551544460809ef2792dfde0a2",
            "556b09713e6f428ea968b0808bc9ba98",
            "784bd4dd902c4b719f251e3375cd2de8",
            "a0ce77ff1ff6457b8e024cef0178bb1b",
            "4a8cc63d3d954d179f23b93d5dadbac4",
            "2aa68215c9de4213a3fc29c7b6d751de",
            "0046abe35cef47bb91e89084d9081404",
            "f9d41989d53b4284af9a4b6840d34e20",
            "062bebe9c2954502a6b53bbc3e09d519",
            "e278c30eec7b452ab5c52bdc407d395d",
            "30b4db5025d64fec866bcc3a0cfe1142",
            "0dbff784fede4c318393dfe29a1039ac",
            "9bcbc494146e4a6680d9439fa23eb610",
            "7618a8ad414e4c258516061735d7dfa6",
            "b0d0dd231a14425b8653644949d28cdf",
            "caf26f79fc6348b49f6a4f828b996b42",
            "31dadde17f3748719cbf41783c4cb853",
            "4192fe7f5c1346fea38feeb3a0e5c782",
            "3140d4d078d446188f22cb56911b652d",
            "019d746cec5941059c87c2b8bd8c9db2",
            "a2cadcc0b8134c54a9d76ef5194ef1f6",
            "f89fa3504d1c4fb9b29958619cbfd6e9",
            "43d8881cff144b96863585101a818646",
            "d7758fa18f264790898ff9a76c5a3bb6",
            "6dd4d2eacdcb450ca33fe9c40867e875",
            "68b90cecc7fa4a79b33c48f64d6197d9",
            "73d0497a5ab44bff91ee334470c6a7ee",
            "5549fd18e5484227a2f4198a10b9910b",
            "f1f6481bf2074a34ab5c2fce4cd28c54",
            "f51fa95bb084458b89c0c0ee4563ef56",
            "967fe33dea5e4e8ea4ef9690a2f92714",
            "f1bb9fbeb35c4abea2bfd9a9602785b9",
            "12b270a1165a497a9c4ab31d85edea31",
            "c439b22f834e43588d5976555d985dd4",
            "12e19395ea034fb98c5f36ff5e6f374d",
            "ac40dffcc23149c7a122a32c7f027e4f",
            "a2db04a428244a7eba848160d13e849e",
            "b822a70bfb3549d890abe5b017625975",
            "f200ef6e305243fb8445084f68d06252",
            "884b28219c1844749e0813bbd37c6515",
            "17e80adc2e7647beae98a6e65ae9bad1",
            "d92a75969a214b44b4ff4e75fd480de2",
            "97e028e8fe4445a881ceb7fee06c3fcf",
            "5185820e48394c1c8492f102df370be7",
            "ac0486be4bd34e9eb79fadbc162956dc",
            "6dba8454357f45f490642a7a5daee590",
            "a9af0bc7259d4f7c8628f52671bb0711",
            "3e67de60fedf4315a2c467b8aafe8d99",
            "840c994109ee40429efc37ff6ab22e26",
            "1d0ccb61b5c6446187ed02e17e4b749f",
            "9f6aa343026543a5af7c914d942b1cee",
            "1802e0a700724a07a6b5ea323674899c",
            "64c1704236e84506ab9a4c485c3583ea",
            "ad2d2131c48c4f009a4c6dcd018302d0",
            "519aec06e5964ed8b7a0d0c14f7dbf68",
            "617fc8ae5cf3424cb01aba4f57c67c74",
            "f9584630bded423aac5958f6c12bf82c",
            "da272f7bb8224ef8b552849535da9d28",
            "501702d7177e448a892573c01ce1721c",
            "6522264caf8446feb754992d593c9958",
            "b7820106be19432d9b20979a5cccf2e4",
            "599a4cf7760647319ecd2ee92cf30496",
            "513c197bfe6143a2b8662a57b59510e1",
            "0306c124c5c7430e85e591920ab02ab7",
            "fc70d53dd3cc4cca988f2b0c13fd7b7c",
            "b88f920cb70247458a3c7618af1e9772",
            "6c4c2576c6cc4e74889600d798d42fdf",
            "5e604100b1a8496f99a7b27657a01d15",
            "8a3cb5ccb2624510b5378678bd52eab1",
            "03a54a1fa990447ebcf51c4e135984a7",
            "0107e864601546ec92c156b92f0a10a4",
            "7a0f170a121e4a63a62829e4a8f2c694"
          ]
        },
        "outputId": "63f9f8cc-555f-428c-acd8-7623718db93f"
      },
      "outputs": [
        {
          "output_type": "display_data",
          "data": {
            "text/plain": [
              "  0%|          | 0/3 [00:00<?, ?it/s]"
            ],
            "application/vnd.jupyter.widget-view+json": {
              "version_major": 2,
              "version_minor": 0,
              "model_id": "f45a2926f1694ea1a574186d31d1f54c"
            }
          },
          "metadata": {}
        },
        {
          "output_type": "display_data",
          "data": {
            "text/plain": [
              "  0%|          | 0/7500 [00:00<?, ?it/s]"
            ],
            "application/vnd.jupyter.widget-view+json": {
              "version_major": 2,
              "version_minor": 0,
              "model_id": "0046abe35cef47bb91e89084d9081404"
            }
          },
          "metadata": {}
        },
        {
          "output_type": "display_data",
          "data": {
            "text/plain": [
              "  0%|          | 0/625 [00:00<?, ?it/s]"
            ],
            "application/vnd.jupyter.widget-view+json": {
              "version_major": 2,
              "version_minor": 0,
              "model_id": "4192fe7f5c1346fea38feeb3a0e5c782"
            }
          },
          "metadata": {}
        },
        {
          "output_type": "stream",
          "name": "stdout",
          "text": [
            "training loss: 0.6309\tvalidation loss: 0.5468\tvalidation accuracy: 0.81\n"
          ]
        },
        {
          "output_type": "display_data",
          "data": {
            "text/plain": [
              "  0%|          | 0/7500 [00:00<?, ?it/s]"
            ],
            "application/vnd.jupyter.widget-view+json": {
              "version_major": 2,
              "version_minor": 0,
              "model_id": "f1f6481bf2074a34ab5c2fce4cd28c54"
            }
          },
          "metadata": {}
        },
        {
          "output_type": "display_data",
          "data": {
            "text/plain": [
              "  0%|          | 0/625 [00:00<?, ?it/s]"
            ],
            "application/vnd.jupyter.widget-view+json": {
              "version_major": 2,
              "version_minor": 0,
              "model_id": "884b28219c1844749e0813bbd37c6515"
            }
          },
          "metadata": {}
        },
        {
          "output_type": "stream",
          "name": "stdout",
          "text": [
            "training loss: 0.4957\tvalidation loss: 0.4680\tvalidation accuracy: 0.84\n"
          ]
        },
        {
          "output_type": "display_data",
          "data": {
            "text/plain": [
              "  0%|          | 0/7500 [00:00<?, ?it/s]"
            ],
            "application/vnd.jupyter.widget-view+json": {
              "version_major": 2,
              "version_minor": 0,
              "model_id": "9f6aa343026543a5af7c914d942b1cee"
            }
          },
          "metadata": {}
        },
        {
          "output_type": "display_data",
          "data": {
            "text/plain": [
              "  0%|          | 0/625 [00:00<?, ?it/s]"
            ],
            "application/vnd.jupyter.widget-view+json": {
              "version_major": 2,
              "version_minor": 0,
              "model_id": "599a4cf7760647319ecd2ee92cf30496"
            }
          },
          "metadata": {}
        },
        {
          "output_type": "stream",
          "name": "stdout",
          "text": [
            "training loss: 0.4679\tvalidation loss: 0.4490\tvalidation accuracy: 0.85\n"
          ]
        }
      ],
      "source": [
        "for epoch in trange(epochs):\n",
        "    L = []  # to store the losses\n",
        "    for xb, yb in tqdm(iter(tr_dl), leave=False):\n",
        "        xb, yb = xb.cuda(), yb.cuda()\n",
        "        y_ = net(xb)\n",
        "        l = loss(y_, yb)\n",
        "        l.backward()\n",
        "\n",
        "        # opt.step() for SGD w/o momentum and w/o weight decay\n",
        "        net.w.data -= net.w.grad.data * lr  # equiv to: net.w.data = net.w.data - net.w.grad.data * lr\n",
        "        net.b.data -= net.b.grad.data * lr\n",
        "\n",
        "        # opt.zero_grad()\n",
        "        net.w.grad.data.zero_() # equivalent to net.w.grad.data = net.w.grad.data.zero()\n",
        "        net.b.grad.data.zero_()\n",
        "\n",
        "        L.append(l.detach().cpu().numpy())\n",
        "\n",
        "    # # disable gradient calculations for validation\n",
        "    # for p in net.parameters(): p.requires_grad = False\n",
        "\n",
        "    Lval, Aval = [], []\n",
        "    with tc.no_grad():  # due to this validation batch size can be bigger\n",
        "        for xb, yb in tqdm(iter(val_dl), leave=False):\n",
        "            xb, yb = xb.cuda(), yb.cuda()\n",
        "            y_ = net(xb)\n",
        "            l = loss(y_, yb)\n",
        "            Lval.append(l.detach().cpu().numpy())\n",
        "            Aval.append((y_.max(dim=1)[1] == yb).float().mean().cpu().numpy())\n",
        "\n",
        "    # # enable gradient calculations for next epoch\n",
        "    # for p in net.parameters(): p.requires_grad = True\n",
        "\n",
        "    print(f'training loss: {np.mean(L):0.4f}\\tvalidation loss: {np.mean(Lval):0.4f}\\tvalidation accuracy: {np.mean(Aval):0.2f}')"
      ]
    },
    {
      "cell_type": "markdown",
      "metadata": {
        "id": "CdHdvKMHk4Mf"
      },
      "source": [
        "# Homework"
      ]
    },
    {
      "cell_type": "markdown",
      "metadata": {
        "id": "zIZEl3Aek4Mf"
      },
      "source": [
        "## For all\n",
        "\n",
        "The training loop above is quite messy, the forward pass is coded twice for example (once for the trainig set and once for the validation set). Your task is to clean it up by moving the duplicate code into a separate function."
      ]
    },
    {
      "cell_type": "markdown",
      "metadata": {
        "id": "F4nNSZI_k4Mf"
      },
      "source": [
        "## For volunteers\n",
        "\n",
        "Prepare a notebook comparing our Logistic Regression model using different optimisers available in `torch.optim`. As a minimum you should compare `SGD` (with and without momentum) and `Adam` and a few learning rates."
      ]
    }
  ],
  "metadata": {
    "kernelspec": {
      "display_name": "Python 3",
      "name": "python3"
    },
    "language_info": {
      "codemirror_mode": {
        "name": "ipython",
        "version": 3
      },
      "file_extension": ".py",
      "mimetype": "text/x-python",
      "name": "python",
      "nbconvert_exporter": "python",
      "pygments_lexer": "ipython3",
      "version": "3.8.3"
    },
    "toc": {
      "base_numbering": 1,
      "nav_menu": {},
      "number_sections": true,
      "sideBar": true,
      "skip_h1_title": false,
      "title_cell": "Table of Contents",
      "title_sidebar": "Contents",
      "toc_cell": false,
      "toc_position": {
        "height": "calc(100% - 180px)",
        "left": "10px",
        "top": "150px",
        "width": "256px"
      },
      "toc_section_display": true,
      "toc_window_display": true
    },
    "varInspector": {
      "cols": {
        "lenName": 16,
        "lenType": 16,
        "lenVar": "160"
      },
      "kernels_config": {
        "python": {
          "delete_cmd_postfix": "",
          "delete_cmd_prefix": "del ",
          "library": "var_list.py",
          "varRefreshCmd": "print(var_dic_list())"
        },
        "r": {
          "delete_cmd_postfix": ") ",
          "delete_cmd_prefix": "rm(",
          "library": "var_list.r",
          "varRefreshCmd": "cat(var_dic_list()) "
        }
      },
      "types_to_exclude": [
        "module",
        "function",
        "builtin_function_or_method",
        "instance",
        "_Feature"
      ],
      "window_display": false
    },
    "colab": {
      "provenance": [],
      "gpuType": "T4"
    },
    "accelerator": "GPU",
    "widgets": {
      "application/vnd.jupyter.widget-state+json": {
        "4b6cd9216494402ba8fd1412881cbe84": {
          "model_module": "@jupyter-widgets/controls",
          "model_name": "HBoxModel",
          "model_module_version": "1.5.0",
          "state": {
            "_dom_classes": [],
            "_model_module": "@jupyter-widgets/controls",
            "_model_module_version": "1.5.0",
            "_model_name": "HBoxModel",
            "_view_count": null,
            "_view_module": "@jupyter-widgets/controls",
            "_view_module_version": "1.5.0",
            "_view_name": "HBoxView",
            "box_style": "",
            "children": [
              "IPY_MODEL_b663d31a754342aab8445e932edbc765",
              "IPY_MODEL_442fd16e7c664f0988103e22334dfa02",
              "IPY_MODEL_dc1b3eb742c14e7a9e0c1915500fc79f"
            ],
            "layout": "IPY_MODEL_1fa586c99fb74db28fc30ba71db61c37"
          }
        },
        "b663d31a754342aab8445e932edbc765": {
          "model_module": "@jupyter-widgets/controls",
          "model_name": "HTMLModel",
          "model_module_version": "1.5.0",
          "state": {
            "_dom_classes": [],
            "_model_module": "@jupyter-widgets/controls",
            "_model_module_version": "1.5.0",
            "_model_name": "HTMLModel",
            "_view_count": null,
            "_view_module": "@jupyter-widgets/controls",
            "_view_module_version": "1.5.0",
            "_view_name": "HTMLView",
            "description": "",
            "description_tooltip": null,
            "layout": "IPY_MODEL_3aefe524d1ff48d08e54d92ebf1efead",
            "placeholder": "​",
            "style": "IPY_MODEL_793568e7ddf641f18030e38e09ff903b",
            "value": "100%"
          }
        },
        "442fd16e7c664f0988103e22334dfa02": {
          "model_module": "@jupyter-widgets/controls",
          "model_name": "FloatProgressModel",
          "model_module_version": "1.5.0",
          "state": {
            "_dom_classes": [],
            "_model_module": "@jupyter-widgets/controls",
            "_model_module_version": "1.5.0",
            "_model_name": "FloatProgressModel",
            "_view_count": null,
            "_view_module": "@jupyter-widgets/controls",
            "_view_module_version": "1.5.0",
            "_view_name": "ProgressView",
            "bar_style": "success",
            "description": "",
            "description_tooltip": null,
            "layout": "IPY_MODEL_0470624d344c400d91e64b12c62e94c7",
            "max": 100,
            "min": 0,
            "orientation": "horizontal",
            "style": "IPY_MODEL_198af96ebd2d43ac8a99d2a83b653b3b",
            "value": 100
          }
        },
        "dc1b3eb742c14e7a9e0c1915500fc79f": {
          "model_module": "@jupyter-widgets/controls",
          "model_name": "HTMLModel",
          "model_module_version": "1.5.0",
          "state": {
            "_dom_classes": [],
            "_model_module": "@jupyter-widgets/controls",
            "_model_module_version": "1.5.0",
            "_model_name": "HTMLModel",
            "_view_count": null,
            "_view_module": "@jupyter-widgets/controls",
            "_view_module_version": "1.5.0",
            "_view_name": "HTMLView",
            "description": "",
            "description_tooltip": null,
            "layout": "IPY_MODEL_0810d3f7720047a4bc9c9b09dbe7b05a",
            "placeholder": "​",
            "style": "IPY_MODEL_f30eb9973f0f49718f3035d6eb531969",
            "value": " 100/100 [00:00&lt;00:00, 154.25it/s]"
          }
        },
        "1fa586c99fb74db28fc30ba71db61c37": {
          "model_module": "@jupyter-widgets/base",
          "model_name": "LayoutModel",
          "model_module_version": "1.2.0",
          "state": {
            "_model_module": "@jupyter-widgets/base",
            "_model_module_version": "1.2.0",
            "_model_name": "LayoutModel",
            "_view_count": null,
            "_view_module": "@jupyter-widgets/base",
            "_view_module_version": "1.2.0",
            "_view_name": "LayoutView",
            "align_content": null,
            "align_items": null,
            "align_self": null,
            "border": null,
            "bottom": null,
            "display": null,
            "flex": null,
            "flex_flow": null,
            "grid_area": null,
            "grid_auto_columns": null,
            "grid_auto_flow": null,
            "grid_auto_rows": null,
            "grid_column": null,
            "grid_gap": null,
            "grid_row": null,
            "grid_template_areas": null,
            "grid_template_columns": null,
            "grid_template_rows": null,
            "height": null,
            "justify_content": null,
            "justify_items": null,
            "left": null,
            "margin": null,
            "max_height": null,
            "max_width": null,
            "min_height": null,
            "min_width": null,
            "object_fit": null,
            "object_position": null,
            "order": null,
            "overflow": null,
            "overflow_x": null,
            "overflow_y": null,
            "padding": null,
            "right": null,
            "top": null,
            "visibility": null,
            "width": null
          }
        },
        "3aefe524d1ff48d08e54d92ebf1efead": {
          "model_module": "@jupyter-widgets/base",
          "model_name": "LayoutModel",
          "model_module_version": "1.2.0",
          "state": {
            "_model_module": "@jupyter-widgets/base",
            "_model_module_version": "1.2.0",
            "_model_name": "LayoutModel",
            "_view_count": null,
            "_view_module": "@jupyter-widgets/base",
            "_view_module_version": "1.2.0",
            "_view_name": "LayoutView",
            "align_content": null,
            "align_items": null,
            "align_self": null,
            "border": null,
            "bottom": null,
            "display": null,
            "flex": null,
            "flex_flow": null,
            "grid_area": null,
            "grid_auto_columns": null,
            "grid_auto_flow": null,
            "grid_auto_rows": null,
            "grid_column": null,
            "grid_gap": null,
            "grid_row": null,
            "grid_template_areas": null,
            "grid_template_columns": null,
            "grid_template_rows": null,
            "height": null,
            "justify_content": null,
            "justify_items": null,
            "left": null,
            "margin": null,
            "max_height": null,
            "max_width": null,
            "min_height": null,
            "min_width": null,
            "object_fit": null,
            "object_position": null,
            "order": null,
            "overflow": null,
            "overflow_x": null,
            "overflow_y": null,
            "padding": null,
            "right": null,
            "top": null,
            "visibility": null,
            "width": null
          }
        },
        "793568e7ddf641f18030e38e09ff903b": {
          "model_module": "@jupyter-widgets/controls",
          "model_name": "DescriptionStyleModel",
          "model_module_version": "1.5.0",
          "state": {
            "_model_module": "@jupyter-widgets/controls",
            "_model_module_version": "1.5.0",
            "_model_name": "DescriptionStyleModel",
            "_view_count": null,
            "_view_module": "@jupyter-widgets/base",
            "_view_module_version": "1.2.0",
            "_view_name": "StyleView",
            "description_width": ""
          }
        },
        "0470624d344c400d91e64b12c62e94c7": {
          "model_module": "@jupyter-widgets/base",
          "model_name": "LayoutModel",
          "model_module_version": "1.2.0",
          "state": {
            "_model_module": "@jupyter-widgets/base",
            "_model_module_version": "1.2.0",
            "_model_name": "LayoutModel",
            "_view_count": null,
            "_view_module": "@jupyter-widgets/base",
            "_view_module_version": "1.2.0",
            "_view_name": "LayoutView",
            "align_content": null,
            "align_items": null,
            "align_self": null,
            "border": null,
            "bottom": null,
            "display": null,
            "flex": null,
            "flex_flow": null,
            "grid_area": null,
            "grid_auto_columns": null,
            "grid_auto_flow": null,
            "grid_auto_rows": null,
            "grid_column": null,
            "grid_gap": null,
            "grid_row": null,
            "grid_template_areas": null,
            "grid_template_columns": null,
            "grid_template_rows": null,
            "height": null,
            "justify_content": null,
            "justify_items": null,
            "left": null,
            "margin": null,
            "max_height": null,
            "max_width": null,
            "min_height": null,
            "min_width": null,
            "object_fit": null,
            "object_position": null,
            "order": null,
            "overflow": null,
            "overflow_x": null,
            "overflow_y": null,
            "padding": null,
            "right": null,
            "top": null,
            "visibility": null,
            "width": null
          }
        },
        "198af96ebd2d43ac8a99d2a83b653b3b": {
          "model_module": "@jupyter-widgets/controls",
          "model_name": "ProgressStyleModel",
          "model_module_version": "1.5.0",
          "state": {
            "_model_module": "@jupyter-widgets/controls",
            "_model_module_version": "1.5.0",
            "_model_name": "ProgressStyleModel",
            "_view_count": null,
            "_view_module": "@jupyter-widgets/base",
            "_view_module_version": "1.2.0",
            "_view_name": "StyleView",
            "bar_color": null,
            "description_width": ""
          }
        },
        "0810d3f7720047a4bc9c9b09dbe7b05a": {
          "model_module": "@jupyter-widgets/base",
          "model_name": "LayoutModel",
          "model_module_version": "1.2.0",
          "state": {
            "_model_module": "@jupyter-widgets/base",
            "_model_module_version": "1.2.0",
            "_model_name": "LayoutModel",
            "_view_count": null,
            "_view_module": "@jupyter-widgets/base",
            "_view_module_version": "1.2.0",
            "_view_name": "LayoutView",
            "align_content": null,
            "align_items": null,
            "align_self": null,
            "border": null,
            "bottom": null,
            "display": null,
            "flex": null,
            "flex_flow": null,
            "grid_area": null,
            "grid_auto_columns": null,
            "grid_auto_flow": null,
            "grid_auto_rows": null,
            "grid_column": null,
            "grid_gap": null,
            "grid_row": null,
            "grid_template_areas": null,
            "grid_template_columns": null,
            "grid_template_rows": null,
            "height": null,
            "justify_content": null,
            "justify_items": null,
            "left": null,
            "margin": null,
            "max_height": null,
            "max_width": null,
            "min_height": null,
            "min_width": null,
            "object_fit": null,
            "object_position": null,
            "order": null,
            "overflow": null,
            "overflow_x": null,
            "overflow_y": null,
            "padding": null,
            "right": null,
            "top": null,
            "visibility": null,
            "width": null
          }
        },
        "f30eb9973f0f49718f3035d6eb531969": {
          "model_module": "@jupyter-widgets/controls",
          "model_name": "DescriptionStyleModel",
          "model_module_version": "1.5.0",
          "state": {
            "_model_module": "@jupyter-widgets/controls",
            "_model_module_version": "1.5.0",
            "_model_name": "DescriptionStyleModel",
            "_view_count": null,
            "_view_module": "@jupyter-widgets/base",
            "_view_module_version": "1.2.0",
            "_view_name": "StyleView",
            "description_width": ""
          }
        },
        "00f622e12fc14cd9a2cf1112b20dec2b": {
          "model_module": "@jupyter-widgets/controls",
          "model_name": "HBoxModel",
          "model_module_version": "1.5.0",
          "state": {
            "_dom_classes": [],
            "_model_module": "@jupyter-widgets/controls",
            "_model_module_version": "1.5.0",
            "_model_name": "HBoxModel",
            "_view_count": null,
            "_view_module": "@jupyter-widgets/controls",
            "_view_module_version": "1.5.0",
            "_view_name": "HBoxView",
            "box_style": "",
            "children": [
              "IPY_MODEL_a8fba10352f4467c8ad9977f5c29b04b",
              "IPY_MODEL_e30d9a12ed5845f3b3d99f6e426578be",
              "IPY_MODEL_06a8b57387704c65a0e9ac5c9fecc872"
            ],
            "layout": "IPY_MODEL_9ff706b291004f9c9f831e727b550dd9"
          }
        },
        "a8fba10352f4467c8ad9977f5c29b04b": {
          "model_module": "@jupyter-widgets/controls",
          "model_name": "HTMLModel",
          "model_module_version": "1.5.0",
          "state": {
            "_dom_classes": [],
            "_model_module": "@jupyter-widgets/controls",
            "_model_module_version": "1.5.0",
            "_model_name": "HTMLModel",
            "_view_count": null,
            "_view_module": "@jupyter-widgets/controls",
            "_view_module_version": "1.5.0",
            "_view_name": "HTMLView",
            "description": "",
            "description_tooltip": null,
            "layout": "IPY_MODEL_8b71f6be4ae84c78a0c0d5c1fea87559",
            "placeholder": "​",
            "style": "IPY_MODEL_3e9a3c3f31aa420d851d8cc5abbdb33a",
            "value": "100%"
          }
        },
        "e30d9a12ed5845f3b3d99f6e426578be": {
          "model_module": "@jupyter-widgets/controls",
          "model_name": "FloatProgressModel",
          "model_module_version": "1.5.0",
          "state": {
            "_dom_classes": [],
            "_model_module": "@jupyter-widgets/controls",
            "_model_module_version": "1.5.0",
            "_model_name": "FloatProgressModel",
            "_view_count": null,
            "_view_module": "@jupyter-widgets/controls",
            "_view_module_version": "1.5.0",
            "_view_name": "ProgressView",
            "bar_style": "success",
            "description": "",
            "description_tooltip": null,
            "layout": "IPY_MODEL_658351bb8da2428a82238b80b5925ccd",
            "max": 100,
            "min": 0,
            "orientation": "horizontal",
            "style": "IPY_MODEL_93da1215c67a4e349c32d381b0cbac28",
            "value": 100
          }
        },
        "06a8b57387704c65a0e9ac5c9fecc872": {
          "model_module": "@jupyter-widgets/controls",
          "model_name": "HTMLModel",
          "model_module_version": "1.5.0",
          "state": {
            "_dom_classes": [],
            "_model_module": "@jupyter-widgets/controls",
            "_model_module_version": "1.5.0",
            "_model_name": "HTMLModel",
            "_view_count": null,
            "_view_module": "@jupyter-widgets/controls",
            "_view_module_version": "1.5.0",
            "_view_name": "HTMLView",
            "description": "",
            "description_tooltip": null,
            "layout": "IPY_MODEL_d741e9e2b282405d971012c99064f1fa",
            "placeholder": "​",
            "style": "IPY_MODEL_430f1a6eeb6440f1a78b7252aaf7f0cf",
            "value": " 100/100 [00:00&lt;00:00, 192.07it/s]"
          }
        },
        "9ff706b291004f9c9f831e727b550dd9": {
          "model_module": "@jupyter-widgets/base",
          "model_name": "LayoutModel",
          "model_module_version": "1.2.0",
          "state": {
            "_model_module": "@jupyter-widgets/base",
            "_model_module_version": "1.2.0",
            "_model_name": "LayoutModel",
            "_view_count": null,
            "_view_module": "@jupyter-widgets/base",
            "_view_module_version": "1.2.0",
            "_view_name": "LayoutView",
            "align_content": null,
            "align_items": null,
            "align_self": null,
            "border": null,
            "bottom": null,
            "display": null,
            "flex": null,
            "flex_flow": null,
            "grid_area": null,
            "grid_auto_columns": null,
            "grid_auto_flow": null,
            "grid_auto_rows": null,
            "grid_column": null,
            "grid_gap": null,
            "grid_row": null,
            "grid_template_areas": null,
            "grid_template_columns": null,
            "grid_template_rows": null,
            "height": null,
            "justify_content": null,
            "justify_items": null,
            "left": null,
            "margin": null,
            "max_height": null,
            "max_width": null,
            "min_height": null,
            "min_width": null,
            "object_fit": null,
            "object_position": null,
            "order": null,
            "overflow": null,
            "overflow_x": null,
            "overflow_y": null,
            "padding": null,
            "right": null,
            "top": null,
            "visibility": null,
            "width": null
          }
        },
        "8b71f6be4ae84c78a0c0d5c1fea87559": {
          "model_module": "@jupyter-widgets/base",
          "model_name": "LayoutModel",
          "model_module_version": "1.2.0",
          "state": {
            "_model_module": "@jupyter-widgets/base",
            "_model_module_version": "1.2.0",
            "_model_name": "LayoutModel",
            "_view_count": null,
            "_view_module": "@jupyter-widgets/base",
            "_view_module_version": "1.2.0",
            "_view_name": "LayoutView",
            "align_content": null,
            "align_items": null,
            "align_self": null,
            "border": null,
            "bottom": null,
            "display": null,
            "flex": null,
            "flex_flow": null,
            "grid_area": null,
            "grid_auto_columns": null,
            "grid_auto_flow": null,
            "grid_auto_rows": null,
            "grid_column": null,
            "grid_gap": null,
            "grid_row": null,
            "grid_template_areas": null,
            "grid_template_columns": null,
            "grid_template_rows": null,
            "height": null,
            "justify_content": null,
            "justify_items": null,
            "left": null,
            "margin": null,
            "max_height": null,
            "max_width": null,
            "min_height": null,
            "min_width": null,
            "object_fit": null,
            "object_position": null,
            "order": null,
            "overflow": null,
            "overflow_x": null,
            "overflow_y": null,
            "padding": null,
            "right": null,
            "top": null,
            "visibility": null,
            "width": null
          }
        },
        "3e9a3c3f31aa420d851d8cc5abbdb33a": {
          "model_module": "@jupyter-widgets/controls",
          "model_name": "DescriptionStyleModel",
          "model_module_version": "1.5.0",
          "state": {
            "_model_module": "@jupyter-widgets/controls",
            "_model_module_version": "1.5.0",
            "_model_name": "DescriptionStyleModel",
            "_view_count": null,
            "_view_module": "@jupyter-widgets/base",
            "_view_module_version": "1.2.0",
            "_view_name": "StyleView",
            "description_width": ""
          }
        },
        "658351bb8da2428a82238b80b5925ccd": {
          "model_module": "@jupyter-widgets/base",
          "model_name": "LayoutModel",
          "model_module_version": "1.2.0",
          "state": {
            "_model_module": "@jupyter-widgets/base",
            "_model_module_version": "1.2.0",
            "_model_name": "LayoutModel",
            "_view_count": null,
            "_view_module": "@jupyter-widgets/base",
            "_view_module_version": "1.2.0",
            "_view_name": "LayoutView",
            "align_content": null,
            "align_items": null,
            "align_self": null,
            "border": null,
            "bottom": null,
            "display": null,
            "flex": null,
            "flex_flow": null,
            "grid_area": null,
            "grid_auto_columns": null,
            "grid_auto_flow": null,
            "grid_auto_rows": null,
            "grid_column": null,
            "grid_gap": null,
            "grid_row": null,
            "grid_template_areas": null,
            "grid_template_columns": null,
            "grid_template_rows": null,
            "height": null,
            "justify_content": null,
            "justify_items": null,
            "left": null,
            "margin": null,
            "max_height": null,
            "max_width": null,
            "min_height": null,
            "min_width": null,
            "object_fit": null,
            "object_position": null,
            "order": null,
            "overflow": null,
            "overflow_x": null,
            "overflow_y": null,
            "padding": null,
            "right": null,
            "top": null,
            "visibility": null,
            "width": null
          }
        },
        "93da1215c67a4e349c32d381b0cbac28": {
          "model_module": "@jupyter-widgets/controls",
          "model_name": "ProgressStyleModel",
          "model_module_version": "1.5.0",
          "state": {
            "_model_module": "@jupyter-widgets/controls",
            "_model_module_version": "1.5.0",
            "_model_name": "ProgressStyleModel",
            "_view_count": null,
            "_view_module": "@jupyter-widgets/base",
            "_view_module_version": "1.2.0",
            "_view_name": "StyleView",
            "bar_color": null,
            "description_width": ""
          }
        },
        "d741e9e2b282405d971012c99064f1fa": {
          "model_module": "@jupyter-widgets/base",
          "model_name": "LayoutModel",
          "model_module_version": "1.2.0",
          "state": {
            "_model_module": "@jupyter-widgets/base",
            "_model_module_version": "1.2.0",
            "_model_name": "LayoutModel",
            "_view_count": null,
            "_view_module": "@jupyter-widgets/base",
            "_view_module_version": "1.2.0",
            "_view_name": "LayoutView",
            "align_content": null,
            "align_items": null,
            "align_self": null,
            "border": null,
            "bottom": null,
            "display": null,
            "flex": null,
            "flex_flow": null,
            "grid_area": null,
            "grid_auto_columns": null,
            "grid_auto_flow": null,
            "grid_auto_rows": null,
            "grid_column": null,
            "grid_gap": null,
            "grid_row": null,
            "grid_template_areas": null,
            "grid_template_columns": null,
            "grid_template_rows": null,
            "height": null,
            "justify_content": null,
            "justify_items": null,
            "left": null,
            "margin": null,
            "max_height": null,
            "max_width": null,
            "min_height": null,
            "min_width": null,
            "object_fit": null,
            "object_position": null,
            "order": null,
            "overflow": null,
            "overflow_x": null,
            "overflow_y": null,
            "padding": null,
            "right": null,
            "top": null,
            "visibility": null,
            "width": null
          }
        },
        "430f1a6eeb6440f1a78b7252aaf7f0cf": {
          "model_module": "@jupyter-widgets/controls",
          "model_name": "DescriptionStyleModel",
          "model_module_version": "1.5.0",
          "state": {
            "_model_module": "@jupyter-widgets/controls",
            "_model_module_version": "1.5.0",
            "_model_name": "DescriptionStyleModel",
            "_view_count": null,
            "_view_module": "@jupyter-widgets/base",
            "_view_module_version": "1.2.0",
            "_view_name": "StyleView",
            "description_width": ""
          }
        },
        "f45a2926f1694ea1a574186d31d1f54c": {
          "model_module": "@jupyter-widgets/controls",
          "model_name": "HBoxModel",
          "model_module_version": "1.5.0",
          "state": {
            "_dom_classes": [],
            "_model_module": "@jupyter-widgets/controls",
            "_model_module_version": "1.5.0",
            "_model_name": "HBoxModel",
            "_view_count": null,
            "_view_module": "@jupyter-widgets/controls",
            "_view_module_version": "1.5.0",
            "_view_name": "HBoxView",
            "box_style": "",
            "children": [
              "IPY_MODEL_4fdadecad2954fda919d9d30d2b223b3",
              "IPY_MODEL_9bc4e5fe0b77472dba56399740bda88b",
              "IPY_MODEL_a92b6854b8f54c15b90ee7d0abf490ce"
            ],
            "layout": "IPY_MODEL_6621168bf9b545e8b1a9b76805fd84ae"
          }
        },
        "4fdadecad2954fda919d9d30d2b223b3": {
          "model_module": "@jupyter-widgets/controls",
          "model_name": "HTMLModel",
          "model_module_version": "1.5.0",
          "state": {
            "_dom_classes": [],
            "_model_module": "@jupyter-widgets/controls",
            "_model_module_version": "1.5.0",
            "_model_name": "HTMLModel",
            "_view_count": null,
            "_view_module": "@jupyter-widgets/controls",
            "_view_module_version": "1.5.0",
            "_view_name": "HTMLView",
            "description": "",
            "description_tooltip": null,
            "layout": "IPY_MODEL_9903e50551544460809ef2792dfde0a2",
            "placeholder": "​",
            "style": "IPY_MODEL_556b09713e6f428ea968b0808bc9ba98",
            "value": "100%"
          }
        },
        "9bc4e5fe0b77472dba56399740bda88b": {
          "model_module": "@jupyter-widgets/controls",
          "model_name": "FloatProgressModel",
          "model_module_version": "1.5.0",
          "state": {
            "_dom_classes": [],
            "_model_module": "@jupyter-widgets/controls",
            "_model_module_version": "1.5.0",
            "_model_name": "FloatProgressModel",
            "_view_count": null,
            "_view_module": "@jupyter-widgets/controls",
            "_view_module_version": "1.5.0",
            "_view_name": "ProgressView",
            "bar_style": "success",
            "description": "",
            "description_tooltip": null,
            "layout": "IPY_MODEL_784bd4dd902c4b719f251e3375cd2de8",
            "max": 3,
            "min": 0,
            "orientation": "horizontal",
            "style": "IPY_MODEL_a0ce77ff1ff6457b8e024cef0178bb1b",
            "value": 3
          }
        },
        "a92b6854b8f54c15b90ee7d0abf490ce": {
          "model_module": "@jupyter-widgets/controls",
          "model_name": "HTMLModel",
          "model_module_version": "1.5.0",
          "state": {
            "_dom_classes": [],
            "_model_module": "@jupyter-widgets/controls",
            "_model_module_version": "1.5.0",
            "_model_name": "HTMLModel",
            "_view_count": null,
            "_view_module": "@jupyter-widgets/controls",
            "_view_module_version": "1.5.0",
            "_view_name": "HTMLView",
            "description": "",
            "description_tooltip": null,
            "layout": "IPY_MODEL_4a8cc63d3d954d179f23b93d5dadbac4",
            "placeholder": "​",
            "style": "IPY_MODEL_2aa68215c9de4213a3fc29c7b6d751de",
            "value": " 3/3 [01:09&lt;00:00, 23.30s/it]"
          }
        },
        "6621168bf9b545e8b1a9b76805fd84ae": {
          "model_module": "@jupyter-widgets/base",
          "model_name": "LayoutModel",
          "model_module_version": "1.2.0",
          "state": {
            "_model_module": "@jupyter-widgets/base",
            "_model_module_version": "1.2.0",
            "_model_name": "LayoutModel",
            "_view_count": null,
            "_view_module": "@jupyter-widgets/base",
            "_view_module_version": "1.2.0",
            "_view_name": "LayoutView",
            "align_content": null,
            "align_items": null,
            "align_self": null,
            "border": null,
            "bottom": null,
            "display": null,
            "flex": null,
            "flex_flow": null,
            "grid_area": null,
            "grid_auto_columns": null,
            "grid_auto_flow": null,
            "grid_auto_rows": null,
            "grid_column": null,
            "grid_gap": null,
            "grid_row": null,
            "grid_template_areas": null,
            "grid_template_columns": null,
            "grid_template_rows": null,
            "height": null,
            "justify_content": null,
            "justify_items": null,
            "left": null,
            "margin": null,
            "max_height": null,
            "max_width": null,
            "min_height": null,
            "min_width": null,
            "object_fit": null,
            "object_position": null,
            "order": null,
            "overflow": null,
            "overflow_x": null,
            "overflow_y": null,
            "padding": null,
            "right": null,
            "top": null,
            "visibility": null,
            "width": null
          }
        },
        "9903e50551544460809ef2792dfde0a2": {
          "model_module": "@jupyter-widgets/base",
          "model_name": "LayoutModel",
          "model_module_version": "1.2.0",
          "state": {
            "_model_module": "@jupyter-widgets/base",
            "_model_module_version": "1.2.0",
            "_model_name": "LayoutModel",
            "_view_count": null,
            "_view_module": "@jupyter-widgets/base",
            "_view_module_version": "1.2.0",
            "_view_name": "LayoutView",
            "align_content": null,
            "align_items": null,
            "align_self": null,
            "border": null,
            "bottom": null,
            "display": null,
            "flex": null,
            "flex_flow": null,
            "grid_area": null,
            "grid_auto_columns": null,
            "grid_auto_flow": null,
            "grid_auto_rows": null,
            "grid_column": null,
            "grid_gap": null,
            "grid_row": null,
            "grid_template_areas": null,
            "grid_template_columns": null,
            "grid_template_rows": null,
            "height": null,
            "justify_content": null,
            "justify_items": null,
            "left": null,
            "margin": null,
            "max_height": null,
            "max_width": null,
            "min_height": null,
            "min_width": null,
            "object_fit": null,
            "object_position": null,
            "order": null,
            "overflow": null,
            "overflow_x": null,
            "overflow_y": null,
            "padding": null,
            "right": null,
            "top": null,
            "visibility": null,
            "width": null
          }
        },
        "556b09713e6f428ea968b0808bc9ba98": {
          "model_module": "@jupyter-widgets/controls",
          "model_name": "DescriptionStyleModel",
          "model_module_version": "1.5.0",
          "state": {
            "_model_module": "@jupyter-widgets/controls",
            "_model_module_version": "1.5.0",
            "_model_name": "DescriptionStyleModel",
            "_view_count": null,
            "_view_module": "@jupyter-widgets/base",
            "_view_module_version": "1.2.0",
            "_view_name": "StyleView",
            "description_width": ""
          }
        },
        "784bd4dd902c4b719f251e3375cd2de8": {
          "model_module": "@jupyter-widgets/base",
          "model_name": "LayoutModel",
          "model_module_version": "1.2.0",
          "state": {
            "_model_module": "@jupyter-widgets/base",
            "_model_module_version": "1.2.0",
            "_model_name": "LayoutModel",
            "_view_count": null,
            "_view_module": "@jupyter-widgets/base",
            "_view_module_version": "1.2.0",
            "_view_name": "LayoutView",
            "align_content": null,
            "align_items": null,
            "align_self": null,
            "border": null,
            "bottom": null,
            "display": null,
            "flex": null,
            "flex_flow": null,
            "grid_area": null,
            "grid_auto_columns": null,
            "grid_auto_flow": null,
            "grid_auto_rows": null,
            "grid_column": null,
            "grid_gap": null,
            "grid_row": null,
            "grid_template_areas": null,
            "grid_template_columns": null,
            "grid_template_rows": null,
            "height": null,
            "justify_content": null,
            "justify_items": null,
            "left": null,
            "margin": null,
            "max_height": null,
            "max_width": null,
            "min_height": null,
            "min_width": null,
            "object_fit": null,
            "object_position": null,
            "order": null,
            "overflow": null,
            "overflow_x": null,
            "overflow_y": null,
            "padding": null,
            "right": null,
            "top": null,
            "visibility": null,
            "width": null
          }
        },
        "a0ce77ff1ff6457b8e024cef0178bb1b": {
          "model_module": "@jupyter-widgets/controls",
          "model_name": "ProgressStyleModel",
          "model_module_version": "1.5.0",
          "state": {
            "_model_module": "@jupyter-widgets/controls",
            "_model_module_version": "1.5.0",
            "_model_name": "ProgressStyleModel",
            "_view_count": null,
            "_view_module": "@jupyter-widgets/base",
            "_view_module_version": "1.2.0",
            "_view_name": "StyleView",
            "bar_color": null,
            "description_width": ""
          }
        },
        "4a8cc63d3d954d179f23b93d5dadbac4": {
          "model_module": "@jupyter-widgets/base",
          "model_name": "LayoutModel",
          "model_module_version": "1.2.0",
          "state": {
            "_model_module": "@jupyter-widgets/base",
            "_model_module_version": "1.2.0",
            "_model_name": "LayoutModel",
            "_view_count": null,
            "_view_module": "@jupyter-widgets/base",
            "_view_module_version": "1.2.0",
            "_view_name": "LayoutView",
            "align_content": null,
            "align_items": null,
            "align_self": null,
            "border": null,
            "bottom": null,
            "display": null,
            "flex": null,
            "flex_flow": null,
            "grid_area": null,
            "grid_auto_columns": null,
            "grid_auto_flow": null,
            "grid_auto_rows": null,
            "grid_column": null,
            "grid_gap": null,
            "grid_row": null,
            "grid_template_areas": null,
            "grid_template_columns": null,
            "grid_template_rows": null,
            "height": null,
            "justify_content": null,
            "justify_items": null,
            "left": null,
            "margin": null,
            "max_height": null,
            "max_width": null,
            "min_height": null,
            "min_width": null,
            "object_fit": null,
            "object_position": null,
            "order": null,
            "overflow": null,
            "overflow_x": null,
            "overflow_y": null,
            "padding": null,
            "right": null,
            "top": null,
            "visibility": null,
            "width": null
          }
        },
        "2aa68215c9de4213a3fc29c7b6d751de": {
          "model_module": "@jupyter-widgets/controls",
          "model_name": "DescriptionStyleModel",
          "model_module_version": "1.5.0",
          "state": {
            "_model_module": "@jupyter-widgets/controls",
            "_model_module_version": "1.5.0",
            "_model_name": "DescriptionStyleModel",
            "_view_count": null,
            "_view_module": "@jupyter-widgets/base",
            "_view_module_version": "1.2.0",
            "_view_name": "StyleView",
            "description_width": ""
          }
        },
        "0046abe35cef47bb91e89084d9081404": {
          "model_module": "@jupyter-widgets/controls",
          "model_name": "HBoxModel",
          "model_module_version": "1.5.0",
          "state": {
            "_dom_classes": [],
            "_model_module": "@jupyter-widgets/controls",
            "_model_module_version": "1.5.0",
            "_model_name": "HBoxModel",
            "_view_count": null,
            "_view_module": "@jupyter-widgets/controls",
            "_view_module_version": "1.5.0",
            "_view_name": "HBoxView",
            "box_style": "",
            "children": [
              "IPY_MODEL_f9d41989d53b4284af9a4b6840d34e20",
              "IPY_MODEL_062bebe9c2954502a6b53bbc3e09d519",
              "IPY_MODEL_e278c30eec7b452ab5c52bdc407d395d"
            ],
            "layout": "IPY_MODEL_30b4db5025d64fec866bcc3a0cfe1142"
          }
        },
        "f9d41989d53b4284af9a4b6840d34e20": {
          "model_module": "@jupyter-widgets/controls",
          "model_name": "HTMLModel",
          "model_module_version": "1.5.0",
          "state": {
            "_dom_classes": [],
            "_model_module": "@jupyter-widgets/controls",
            "_model_module_version": "1.5.0",
            "_model_name": "HTMLModel",
            "_view_count": null,
            "_view_module": "@jupyter-widgets/controls",
            "_view_module_version": "1.5.0",
            "_view_name": "HTMLView",
            "description": "",
            "description_tooltip": null,
            "layout": "IPY_MODEL_0dbff784fede4c318393dfe29a1039ac",
            "placeholder": "​",
            "style": "IPY_MODEL_9bcbc494146e4a6680d9439fa23eb610",
            "value": "100%"
          }
        },
        "062bebe9c2954502a6b53bbc3e09d519": {
          "model_module": "@jupyter-widgets/controls",
          "model_name": "FloatProgressModel",
          "model_module_version": "1.5.0",
          "state": {
            "_dom_classes": [],
            "_model_module": "@jupyter-widgets/controls",
            "_model_module_version": "1.5.0",
            "_model_name": "FloatProgressModel",
            "_view_count": null,
            "_view_module": "@jupyter-widgets/controls",
            "_view_module_version": "1.5.0",
            "_view_name": "ProgressView",
            "bar_style": "",
            "description": "",
            "description_tooltip": null,
            "layout": "IPY_MODEL_7618a8ad414e4c258516061735d7dfa6",
            "max": 7500,
            "min": 0,
            "orientation": "horizontal",
            "style": "IPY_MODEL_b0d0dd231a14425b8653644949d28cdf",
            "value": 7500
          }
        },
        "e278c30eec7b452ab5c52bdc407d395d": {
          "model_module": "@jupyter-widgets/controls",
          "model_name": "HTMLModel",
          "model_module_version": "1.5.0",
          "state": {
            "_dom_classes": [],
            "_model_module": "@jupyter-widgets/controls",
            "_model_module_version": "1.5.0",
            "_model_name": "HTMLModel",
            "_view_count": null,
            "_view_module": "@jupyter-widgets/controls",
            "_view_module_version": "1.5.0",
            "_view_name": "HTMLView",
            "description": "",
            "description_tooltip": null,
            "layout": "IPY_MODEL_caf26f79fc6348b49f6a4f828b996b42",
            "placeholder": "​",
            "style": "IPY_MODEL_31dadde17f3748719cbf41783c4cb853",
            "value": " 7497/7500 [00:21&lt;00:00, 335.03it/s]"
          }
        },
        "30b4db5025d64fec866bcc3a0cfe1142": {
          "model_module": "@jupyter-widgets/base",
          "model_name": "LayoutModel",
          "model_module_version": "1.2.0",
          "state": {
            "_model_module": "@jupyter-widgets/base",
            "_model_module_version": "1.2.0",
            "_model_name": "LayoutModel",
            "_view_count": null,
            "_view_module": "@jupyter-widgets/base",
            "_view_module_version": "1.2.0",
            "_view_name": "LayoutView",
            "align_content": null,
            "align_items": null,
            "align_self": null,
            "border": null,
            "bottom": null,
            "display": null,
            "flex": null,
            "flex_flow": null,
            "grid_area": null,
            "grid_auto_columns": null,
            "grid_auto_flow": null,
            "grid_auto_rows": null,
            "grid_column": null,
            "grid_gap": null,
            "grid_row": null,
            "grid_template_areas": null,
            "grid_template_columns": null,
            "grid_template_rows": null,
            "height": null,
            "justify_content": null,
            "justify_items": null,
            "left": null,
            "margin": null,
            "max_height": null,
            "max_width": null,
            "min_height": null,
            "min_width": null,
            "object_fit": null,
            "object_position": null,
            "order": null,
            "overflow": null,
            "overflow_x": null,
            "overflow_y": null,
            "padding": null,
            "right": null,
            "top": null,
            "visibility": "hidden",
            "width": null
          }
        },
        "0dbff784fede4c318393dfe29a1039ac": {
          "model_module": "@jupyter-widgets/base",
          "model_name": "LayoutModel",
          "model_module_version": "1.2.0",
          "state": {
            "_model_module": "@jupyter-widgets/base",
            "_model_module_version": "1.2.0",
            "_model_name": "LayoutModel",
            "_view_count": null,
            "_view_module": "@jupyter-widgets/base",
            "_view_module_version": "1.2.0",
            "_view_name": "LayoutView",
            "align_content": null,
            "align_items": null,
            "align_self": null,
            "border": null,
            "bottom": null,
            "display": null,
            "flex": null,
            "flex_flow": null,
            "grid_area": null,
            "grid_auto_columns": null,
            "grid_auto_flow": null,
            "grid_auto_rows": null,
            "grid_column": null,
            "grid_gap": null,
            "grid_row": null,
            "grid_template_areas": null,
            "grid_template_columns": null,
            "grid_template_rows": null,
            "height": null,
            "justify_content": null,
            "justify_items": null,
            "left": null,
            "margin": null,
            "max_height": null,
            "max_width": null,
            "min_height": null,
            "min_width": null,
            "object_fit": null,
            "object_position": null,
            "order": null,
            "overflow": null,
            "overflow_x": null,
            "overflow_y": null,
            "padding": null,
            "right": null,
            "top": null,
            "visibility": null,
            "width": null
          }
        },
        "9bcbc494146e4a6680d9439fa23eb610": {
          "model_module": "@jupyter-widgets/controls",
          "model_name": "DescriptionStyleModel",
          "model_module_version": "1.5.0",
          "state": {
            "_model_module": "@jupyter-widgets/controls",
            "_model_module_version": "1.5.0",
            "_model_name": "DescriptionStyleModel",
            "_view_count": null,
            "_view_module": "@jupyter-widgets/base",
            "_view_module_version": "1.2.0",
            "_view_name": "StyleView",
            "description_width": ""
          }
        },
        "7618a8ad414e4c258516061735d7dfa6": {
          "model_module": "@jupyter-widgets/base",
          "model_name": "LayoutModel",
          "model_module_version": "1.2.0",
          "state": {
            "_model_module": "@jupyter-widgets/base",
            "_model_module_version": "1.2.0",
            "_model_name": "LayoutModel",
            "_view_count": null,
            "_view_module": "@jupyter-widgets/base",
            "_view_module_version": "1.2.0",
            "_view_name": "LayoutView",
            "align_content": null,
            "align_items": null,
            "align_self": null,
            "border": null,
            "bottom": null,
            "display": null,
            "flex": null,
            "flex_flow": null,
            "grid_area": null,
            "grid_auto_columns": null,
            "grid_auto_flow": null,
            "grid_auto_rows": null,
            "grid_column": null,
            "grid_gap": null,
            "grid_row": null,
            "grid_template_areas": null,
            "grid_template_columns": null,
            "grid_template_rows": null,
            "height": null,
            "justify_content": null,
            "justify_items": null,
            "left": null,
            "margin": null,
            "max_height": null,
            "max_width": null,
            "min_height": null,
            "min_width": null,
            "object_fit": null,
            "object_position": null,
            "order": null,
            "overflow": null,
            "overflow_x": null,
            "overflow_y": null,
            "padding": null,
            "right": null,
            "top": null,
            "visibility": null,
            "width": null
          }
        },
        "b0d0dd231a14425b8653644949d28cdf": {
          "model_module": "@jupyter-widgets/controls",
          "model_name": "ProgressStyleModel",
          "model_module_version": "1.5.0",
          "state": {
            "_model_module": "@jupyter-widgets/controls",
            "_model_module_version": "1.5.0",
            "_model_name": "ProgressStyleModel",
            "_view_count": null,
            "_view_module": "@jupyter-widgets/base",
            "_view_module_version": "1.2.0",
            "_view_name": "StyleView",
            "bar_color": null,
            "description_width": ""
          }
        },
        "caf26f79fc6348b49f6a4f828b996b42": {
          "model_module": "@jupyter-widgets/base",
          "model_name": "LayoutModel",
          "model_module_version": "1.2.0",
          "state": {
            "_model_module": "@jupyter-widgets/base",
            "_model_module_version": "1.2.0",
            "_model_name": "LayoutModel",
            "_view_count": null,
            "_view_module": "@jupyter-widgets/base",
            "_view_module_version": "1.2.0",
            "_view_name": "LayoutView",
            "align_content": null,
            "align_items": null,
            "align_self": null,
            "border": null,
            "bottom": null,
            "display": null,
            "flex": null,
            "flex_flow": null,
            "grid_area": null,
            "grid_auto_columns": null,
            "grid_auto_flow": null,
            "grid_auto_rows": null,
            "grid_column": null,
            "grid_gap": null,
            "grid_row": null,
            "grid_template_areas": null,
            "grid_template_columns": null,
            "grid_template_rows": null,
            "height": null,
            "justify_content": null,
            "justify_items": null,
            "left": null,
            "margin": null,
            "max_height": null,
            "max_width": null,
            "min_height": null,
            "min_width": null,
            "object_fit": null,
            "object_position": null,
            "order": null,
            "overflow": null,
            "overflow_x": null,
            "overflow_y": null,
            "padding": null,
            "right": null,
            "top": null,
            "visibility": null,
            "width": null
          }
        },
        "31dadde17f3748719cbf41783c4cb853": {
          "model_module": "@jupyter-widgets/controls",
          "model_name": "DescriptionStyleModel",
          "model_module_version": "1.5.0",
          "state": {
            "_model_module": "@jupyter-widgets/controls",
            "_model_module_version": "1.5.0",
            "_model_name": "DescriptionStyleModel",
            "_view_count": null,
            "_view_module": "@jupyter-widgets/base",
            "_view_module_version": "1.2.0",
            "_view_name": "StyleView",
            "description_width": ""
          }
        },
        "4192fe7f5c1346fea38feeb3a0e5c782": {
          "model_module": "@jupyter-widgets/controls",
          "model_name": "HBoxModel",
          "model_module_version": "1.5.0",
          "state": {
            "_dom_classes": [],
            "_model_module": "@jupyter-widgets/controls",
            "_model_module_version": "1.5.0",
            "_model_name": "HBoxModel",
            "_view_count": null,
            "_view_module": "@jupyter-widgets/controls",
            "_view_module_version": "1.5.0",
            "_view_name": "HBoxView",
            "box_style": "",
            "children": [
              "IPY_MODEL_3140d4d078d446188f22cb56911b652d",
              "IPY_MODEL_019d746cec5941059c87c2b8bd8c9db2",
              "IPY_MODEL_a2cadcc0b8134c54a9d76ef5194ef1f6"
            ],
            "layout": "IPY_MODEL_f89fa3504d1c4fb9b29958619cbfd6e9"
          }
        },
        "3140d4d078d446188f22cb56911b652d": {
          "model_module": "@jupyter-widgets/controls",
          "model_name": "HTMLModel",
          "model_module_version": "1.5.0",
          "state": {
            "_dom_classes": [],
            "_model_module": "@jupyter-widgets/controls",
            "_model_module_version": "1.5.0",
            "_model_name": "HTMLModel",
            "_view_count": null,
            "_view_module": "@jupyter-widgets/controls",
            "_view_module_version": "1.5.0",
            "_view_name": "HTMLView",
            "description": "",
            "description_tooltip": null,
            "layout": "IPY_MODEL_43d8881cff144b96863585101a818646",
            "placeholder": "​",
            "style": "IPY_MODEL_d7758fa18f264790898ff9a76c5a3bb6",
            "value": " 96%"
          }
        },
        "019d746cec5941059c87c2b8bd8c9db2": {
          "model_module": "@jupyter-widgets/controls",
          "model_name": "FloatProgressModel",
          "model_module_version": "1.5.0",
          "state": {
            "_dom_classes": [],
            "_model_module": "@jupyter-widgets/controls",
            "_model_module_version": "1.5.0",
            "_model_name": "FloatProgressModel",
            "_view_count": null,
            "_view_module": "@jupyter-widgets/controls",
            "_view_module_version": "1.5.0",
            "_view_name": "ProgressView",
            "bar_style": "",
            "description": "",
            "description_tooltip": null,
            "layout": "IPY_MODEL_6dd4d2eacdcb450ca33fe9c40867e875",
            "max": 625,
            "min": 0,
            "orientation": "horizontal",
            "style": "IPY_MODEL_68b90cecc7fa4a79b33c48f64d6197d9",
            "value": 625
          }
        },
        "a2cadcc0b8134c54a9d76ef5194ef1f6": {
          "model_module": "@jupyter-widgets/controls",
          "model_name": "HTMLModel",
          "model_module_version": "1.5.0",
          "state": {
            "_dom_classes": [],
            "_model_module": "@jupyter-widgets/controls",
            "_model_module_version": "1.5.0",
            "_model_name": "HTMLModel",
            "_view_count": null,
            "_view_module": "@jupyter-widgets/controls",
            "_view_module_version": "1.5.0",
            "_view_name": "HTMLView",
            "description": "",
            "description_tooltip": null,
            "layout": "IPY_MODEL_73d0497a5ab44bff91ee334470c6a7ee",
            "placeholder": "​",
            "style": "IPY_MODEL_5549fd18e5484227a2f4198a10b9910b",
            "value": " 597/625 [00:01&lt;00:00, 454.01it/s]"
          }
        },
        "f89fa3504d1c4fb9b29958619cbfd6e9": {
          "model_module": "@jupyter-widgets/base",
          "model_name": "LayoutModel",
          "model_module_version": "1.2.0",
          "state": {
            "_model_module": "@jupyter-widgets/base",
            "_model_module_version": "1.2.0",
            "_model_name": "LayoutModel",
            "_view_count": null,
            "_view_module": "@jupyter-widgets/base",
            "_view_module_version": "1.2.0",
            "_view_name": "LayoutView",
            "align_content": null,
            "align_items": null,
            "align_self": null,
            "border": null,
            "bottom": null,
            "display": null,
            "flex": null,
            "flex_flow": null,
            "grid_area": null,
            "grid_auto_columns": null,
            "grid_auto_flow": null,
            "grid_auto_rows": null,
            "grid_column": null,
            "grid_gap": null,
            "grid_row": null,
            "grid_template_areas": null,
            "grid_template_columns": null,
            "grid_template_rows": null,
            "height": null,
            "justify_content": null,
            "justify_items": null,
            "left": null,
            "margin": null,
            "max_height": null,
            "max_width": null,
            "min_height": null,
            "min_width": null,
            "object_fit": null,
            "object_position": null,
            "order": null,
            "overflow": null,
            "overflow_x": null,
            "overflow_y": null,
            "padding": null,
            "right": null,
            "top": null,
            "visibility": "hidden",
            "width": null
          }
        },
        "43d8881cff144b96863585101a818646": {
          "model_module": "@jupyter-widgets/base",
          "model_name": "LayoutModel",
          "model_module_version": "1.2.0",
          "state": {
            "_model_module": "@jupyter-widgets/base",
            "_model_module_version": "1.2.0",
            "_model_name": "LayoutModel",
            "_view_count": null,
            "_view_module": "@jupyter-widgets/base",
            "_view_module_version": "1.2.0",
            "_view_name": "LayoutView",
            "align_content": null,
            "align_items": null,
            "align_self": null,
            "border": null,
            "bottom": null,
            "display": null,
            "flex": null,
            "flex_flow": null,
            "grid_area": null,
            "grid_auto_columns": null,
            "grid_auto_flow": null,
            "grid_auto_rows": null,
            "grid_column": null,
            "grid_gap": null,
            "grid_row": null,
            "grid_template_areas": null,
            "grid_template_columns": null,
            "grid_template_rows": null,
            "height": null,
            "justify_content": null,
            "justify_items": null,
            "left": null,
            "margin": null,
            "max_height": null,
            "max_width": null,
            "min_height": null,
            "min_width": null,
            "object_fit": null,
            "object_position": null,
            "order": null,
            "overflow": null,
            "overflow_x": null,
            "overflow_y": null,
            "padding": null,
            "right": null,
            "top": null,
            "visibility": null,
            "width": null
          }
        },
        "d7758fa18f264790898ff9a76c5a3bb6": {
          "model_module": "@jupyter-widgets/controls",
          "model_name": "DescriptionStyleModel",
          "model_module_version": "1.5.0",
          "state": {
            "_model_module": "@jupyter-widgets/controls",
            "_model_module_version": "1.5.0",
            "_model_name": "DescriptionStyleModel",
            "_view_count": null,
            "_view_module": "@jupyter-widgets/base",
            "_view_module_version": "1.2.0",
            "_view_name": "StyleView",
            "description_width": ""
          }
        },
        "6dd4d2eacdcb450ca33fe9c40867e875": {
          "model_module": "@jupyter-widgets/base",
          "model_name": "LayoutModel",
          "model_module_version": "1.2.0",
          "state": {
            "_model_module": "@jupyter-widgets/base",
            "_model_module_version": "1.2.0",
            "_model_name": "LayoutModel",
            "_view_count": null,
            "_view_module": "@jupyter-widgets/base",
            "_view_module_version": "1.2.0",
            "_view_name": "LayoutView",
            "align_content": null,
            "align_items": null,
            "align_self": null,
            "border": null,
            "bottom": null,
            "display": null,
            "flex": null,
            "flex_flow": null,
            "grid_area": null,
            "grid_auto_columns": null,
            "grid_auto_flow": null,
            "grid_auto_rows": null,
            "grid_column": null,
            "grid_gap": null,
            "grid_row": null,
            "grid_template_areas": null,
            "grid_template_columns": null,
            "grid_template_rows": null,
            "height": null,
            "justify_content": null,
            "justify_items": null,
            "left": null,
            "margin": null,
            "max_height": null,
            "max_width": null,
            "min_height": null,
            "min_width": null,
            "object_fit": null,
            "object_position": null,
            "order": null,
            "overflow": null,
            "overflow_x": null,
            "overflow_y": null,
            "padding": null,
            "right": null,
            "top": null,
            "visibility": null,
            "width": null
          }
        },
        "68b90cecc7fa4a79b33c48f64d6197d9": {
          "model_module": "@jupyter-widgets/controls",
          "model_name": "ProgressStyleModel",
          "model_module_version": "1.5.0",
          "state": {
            "_model_module": "@jupyter-widgets/controls",
            "_model_module_version": "1.5.0",
            "_model_name": "ProgressStyleModel",
            "_view_count": null,
            "_view_module": "@jupyter-widgets/base",
            "_view_module_version": "1.2.0",
            "_view_name": "StyleView",
            "bar_color": null,
            "description_width": ""
          }
        },
        "73d0497a5ab44bff91ee334470c6a7ee": {
          "model_module": "@jupyter-widgets/base",
          "model_name": "LayoutModel",
          "model_module_version": "1.2.0",
          "state": {
            "_model_module": "@jupyter-widgets/base",
            "_model_module_version": "1.2.0",
            "_model_name": "LayoutModel",
            "_view_count": null,
            "_view_module": "@jupyter-widgets/base",
            "_view_module_version": "1.2.0",
            "_view_name": "LayoutView",
            "align_content": null,
            "align_items": null,
            "align_self": null,
            "border": null,
            "bottom": null,
            "display": null,
            "flex": null,
            "flex_flow": null,
            "grid_area": null,
            "grid_auto_columns": null,
            "grid_auto_flow": null,
            "grid_auto_rows": null,
            "grid_column": null,
            "grid_gap": null,
            "grid_row": null,
            "grid_template_areas": null,
            "grid_template_columns": null,
            "grid_template_rows": null,
            "height": null,
            "justify_content": null,
            "justify_items": null,
            "left": null,
            "margin": null,
            "max_height": null,
            "max_width": null,
            "min_height": null,
            "min_width": null,
            "object_fit": null,
            "object_position": null,
            "order": null,
            "overflow": null,
            "overflow_x": null,
            "overflow_y": null,
            "padding": null,
            "right": null,
            "top": null,
            "visibility": null,
            "width": null
          }
        },
        "5549fd18e5484227a2f4198a10b9910b": {
          "model_module": "@jupyter-widgets/controls",
          "model_name": "DescriptionStyleModel",
          "model_module_version": "1.5.0",
          "state": {
            "_model_module": "@jupyter-widgets/controls",
            "_model_module_version": "1.5.0",
            "_model_name": "DescriptionStyleModel",
            "_view_count": null,
            "_view_module": "@jupyter-widgets/base",
            "_view_module_version": "1.2.0",
            "_view_name": "StyleView",
            "description_width": ""
          }
        },
        "f1f6481bf2074a34ab5c2fce4cd28c54": {
          "model_module": "@jupyter-widgets/controls",
          "model_name": "HBoxModel",
          "model_module_version": "1.5.0",
          "state": {
            "_dom_classes": [],
            "_model_module": "@jupyter-widgets/controls",
            "_model_module_version": "1.5.0",
            "_model_name": "HBoxModel",
            "_view_count": null,
            "_view_module": "@jupyter-widgets/controls",
            "_view_module_version": "1.5.0",
            "_view_name": "HBoxView",
            "box_style": "",
            "children": [
              "IPY_MODEL_f51fa95bb084458b89c0c0ee4563ef56",
              "IPY_MODEL_967fe33dea5e4e8ea4ef9690a2f92714",
              "IPY_MODEL_f1bb9fbeb35c4abea2bfd9a9602785b9"
            ],
            "layout": "IPY_MODEL_12b270a1165a497a9c4ab31d85edea31"
          }
        },
        "f51fa95bb084458b89c0c0ee4563ef56": {
          "model_module": "@jupyter-widgets/controls",
          "model_name": "HTMLModel",
          "model_module_version": "1.5.0",
          "state": {
            "_dom_classes": [],
            "_model_module": "@jupyter-widgets/controls",
            "_model_module_version": "1.5.0",
            "_model_name": "HTMLModel",
            "_view_count": null,
            "_view_module": "@jupyter-widgets/controls",
            "_view_module_version": "1.5.0",
            "_view_name": "HTMLView",
            "description": "",
            "description_tooltip": null,
            "layout": "IPY_MODEL_c439b22f834e43588d5976555d985dd4",
            "placeholder": "​",
            "style": "IPY_MODEL_12e19395ea034fb98c5f36ff5e6f374d",
            "value": "100%"
          }
        },
        "967fe33dea5e4e8ea4ef9690a2f92714": {
          "model_module": "@jupyter-widgets/controls",
          "model_name": "FloatProgressModel",
          "model_module_version": "1.5.0",
          "state": {
            "_dom_classes": [],
            "_model_module": "@jupyter-widgets/controls",
            "_model_module_version": "1.5.0",
            "_model_name": "FloatProgressModel",
            "_view_count": null,
            "_view_module": "@jupyter-widgets/controls",
            "_view_module_version": "1.5.0",
            "_view_name": "ProgressView",
            "bar_style": "",
            "description": "",
            "description_tooltip": null,
            "layout": "IPY_MODEL_ac40dffcc23149c7a122a32c7f027e4f",
            "max": 7500,
            "min": 0,
            "orientation": "horizontal",
            "style": "IPY_MODEL_a2db04a428244a7eba848160d13e849e",
            "value": 7500
          }
        },
        "f1bb9fbeb35c4abea2bfd9a9602785b9": {
          "model_module": "@jupyter-widgets/controls",
          "model_name": "HTMLModel",
          "model_module_version": "1.5.0",
          "state": {
            "_dom_classes": [],
            "_model_module": "@jupyter-widgets/controls",
            "_model_module_version": "1.5.0",
            "_model_name": "HTMLModel",
            "_view_count": null,
            "_view_module": "@jupyter-widgets/controls",
            "_view_module_version": "1.5.0",
            "_view_name": "HTMLView",
            "description": "",
            "description_tooltip": null,
            "layout": "IPY_MODEL_b822a70bfb3549d890abe5b017625975",
            "placeholder": "​",
            "style": "IPY_MODEL_f200ef6e305243fb8445084f68d06252",
            "value": " 7478/7500 [00:21&lt;00:00, 288.52it/s]"
          }
        },
        "12b270a1165a497a9c4ab31d85edea31": {
          "model_module": "@jupyter-widgets/base",
          "model_name": "LayoutModel",
          "model_module_version": "1.2.0",
          "state": {
            "_model_module": "@jupyter-widgets/base",
            "_model_module_version": "1.2.0",
            "_model_name": "LayoutModel",
            "_view_count": null,
            "_view_module": "@jupyter-widgets/base",
            "_view_module_version": "1.2.0",
            "_view_name": "LayoutView",
            "align_content": null,
            "align_items": null,
            "align_self": null,
            "border": null,
            "bottom": null,
            "display": null,
            "flex": null,
            "flex_flow": null,
            "grid_area": null,
            "grid_auto_columns": null,
            "grid_auto_flow": null,
            "grid_auto_rows": null,
            "grid_column": null,
            "grid_gap": null,
            "grid_row": null,
            "grid_template_areas": null,
            "grid_template_columns": null,
            "grid_template_rows": null,
            "height": null,
            "justify_content": null,
            "justify_items": null,
            "left": null,
            "margin": null,
            "max_height": null,
            "max_width": null,
            "min_height": null,
            "min_width": null,
            "object_fit": null,
            "object_position": null,
            "order": null,
            "overflow": null,
            "overflow_x": null,
            "overflow_y": null,
            "padding": null,
            "right": null,
            "top": null,
            "visibility": "hidden",
            "width": null
          }
        },
        "c439b22f834e43588d5976555d985dd4": {
          "model_module": "@jupyter-widgets/base",
          "model_name": "LayoutModel",
          "model_module_version": "1.2.0",
          "state": {
            "_model_module": "@jupyter-widgets/base",
            "_model_module_version": "1.2.0",
            "_model_name": "LayoutModel",
            "_view_count": null,
            "_view_module": "@jupyter-widgets/base",
            "_view_module_version": "1.2.0",
            "_view_name": "LayoutView",
            "align_content": null,
            "align_items": null,
            "align_self": null,
            "border": null,
            "bottom": null,
            "display": null,
            "flex": null,
            "flex_flow": null,
            "grid_area": null,
            "grid_auto_columns": null,
            "grid_auto_flow": null,
            "grid_auto_rows": null,
            "grid_column": null,
            "grid_gap": null,
            "grid_row": null,
            "grid_template_areas": null,
            "grid_template_columns": null,
            "grid_template_rows": null,
            "height": null,
            "justify_content": null,
            "justify_items": null,
            "left": null,
            "margin": null,
            "max_height": null,
            "max_width": null,
            "min_height": null,
            "min_width": null,
            "object_fit": null,
            "object_position": null,
            "order": null,
            "overflow": null,
            "overflow_x": null,
            "overflow_y": null,
            "padding": null,
            "right": null,
            "top": null,
            "visibility": null,
            "width": null
          }
        },
        "12e19395ea034fb98c5f36ff5e6f374d": {
          "model_module": "@jupyter-widgets/controls",
          "model_name": "DescriptionStyleModel",
          "model_module_version": "1.5.0",
          "state": {
            "_model_module": "@jupyter-widgets/controls",
            "_model_module_version": "1.5.0",
            "_model_name": "DescriptionStyleModel",
            "_view_count": null,
            "_view_module": "@jupyter-widgets/base",
            "_view_module_version": "1.2.0",
            "_view_name": "StyleView",
            "description_width": ""
          }
        },
        "ac40dffcc23149c7a122a32c7f027e4f": {
          "model_module": "@jupyter-widgets/base",
          "model_name": "LayoutModel",
          "model_module_version": "1.2.0",
          "state": {
            "_model_module": "@jupyter-widgets/base",
            "_model_module_version": "1.2.0",
            "_model_name": "LayoutModel",
            "_view_count": null,
            "_view_module": "@jupyter-widgets/base",
            "_view_module_version": "1.2.0",
            "_view_name": "LayoutView",
            "align_content": null,
            "align_items": null,
            "align_self": null,
            "border": null,
            "bottom": null,
            "display": null,
            "flex": null,
            "flex_flow": null,
            "grid_area": null,
            "grid_auto_columns": null,
            "grid_auto_flow": null,
            "grid_auto_rows": null,
            "grid_column": null,
            "grid_gap": null,
            "grid_row": null,
            "grid_template_areas": null,
            "grid_template_columns": null,
            "grid_template_rows": null,
            "height": null,
            "justify_content": null,
            "justify_items": null,
            "left": null,
            "margin": null,
            "max_height": null,
            "max_width": null,
            "min_height": null,
            "min_width": null,
            "object_fit": null,
            "object_position": null,
            "order": null,
            "overflow": null,
            "overflow_x": null,
            "overflow_y": null,
            "padding": null,
            "right": null,
            "top": null,
            "visibility": null,
            "width": null
          }
        },
        "a2db04a428244a7eba848160d13e849e": {
          "model_module": "@jupyter-widgets/controls",
          "model_name": "ProgressStyleModel",
          "model_module_version": "1.5.0",
          "state": {
            "_model_module": "@jupyter-widgets/controls",
            "_model_module_version": "1.5.0",
            "_model_name": "ProgressStyleModel",
            "_view_count": null,
            "_view_module": "@jupyter-widgets/base",
            "_view_module_version": "1.2.0",
            "_view_name": "StyleView",
            "bar_color": null,
            "description_width": ""
          }
        },
        "b822a70bfb3549d890abe5b017625975": {
          "model_module": "@jupyter-widgets/base",
          "model_name": "LayoutModel",
          "model_module_version": "1.2.0",
          "state": {
            "_model_module": "@jupyter-widgets/base",
            "_model_module_version": "1.2.0",
            "_model_name": "LayoutModel",
            "_view_count": null,
            "_view_module": "@jupyter-widgets/base",
            "_view_module_version": "1.2.0",
            "_view_name": "LayoutView",
            "align_content": null,
            "align_items": null,
            "align_self": null,
            "border": null,
            "bottom": null,
            "display": null,
            "flex": null,
            "flex_flow": null,
            "grid_area": null,
            "grid_auto_columns": null,
            "grid_auto_flow": null,
            "grid_auto_rows": null,
            "grid_column": null,
            "grid_gap": null,
            "grid_row": null,
            "grid_template_areas": null,
            "grid_template_columns": null,
            "grid_template_rows": null,
            "height": null,
            "justify_content": null,
            "justify_items": null,
            "left": null,
            "margin": null,
            "max_height": null,
            "max_width": null,
            "min_height": null,
            "min_width": null,
            "object_fit": null,
            "object_position": null,
            "order": null,
            "overflow": null,
            "overflow_x": null,
            "overflow_y": null,
            "padding": null,
            "right": null,
            "top": null,
            "visibility": null,
            "width": null
          }
        },
        "f200ef6e305243fb8445084f68d06252": {
          "model_module": "@jupyter-widgets/controls",
          "model_name": "DescriptionStyleModel",
          "model_module_version": "1.5.0",
          "state": {
            "_model_module": "@jupyter-widgets/controls",
            "_model_module_version": "1.5.0",
            "_model_name": "DescriptionStyleModel",
            "_view_count": null,
            "_view_module": "@jupyter-widgets/base",
            "_view_module_version": "1.2.0",
            "_view_name": "StyleView",
            "description_width": ""
          }
        },
        "884b28219c1844749e0813bbd37c6515": {
          "model_module": "@jupyter-widgets/controls",
          "model_name": "HBoxModel",
          "model_module_version": "1.5.0",
          "state": {
            "_dom_classes": [],
            "_model_module": "@jupyter-widgets/controls",
            "_model_module_version": "1.5.0",
            "_model_name": "HBoxModel",
            "_view_count": null,
            "_view_module": "@jupyter-widgets/controls",
            "_view_module_version": "1.5.0",
            "_view_name": "HBoxView",
            "box_style": "",
            "children": [
              "IPY_MODEL_17e80adc2e7647beae98a6e65ae9bad1",
              "IPY_MODEL_d92a75969a214b44b4ff4e75fd480de2",
              "IPY_MODEL_97e028e8fe4445a881ceb7fee06c3fcf"
            ],
            "layout": "IPY_MODEL_5185820e48394c1c8492f102df370be7"
          }
        },
        "17e80adc2e7647beae98a6e65ae9bad1": {
          "model_module": "@jupyter-widgets/controls",
          "model_name": "HTMLModel",
          "model_module_version": "1.5.0",
          "state": {
            "_dom_classes": [],
            "_model_module": "@jupyter-widgets/controls",
            "_model_module_version": "1.5.0",
            "_model_name": "HTMLModel",
            "_view_count": null,
            "_view_module": "@jupyter-widgets/controls",
            "_view_module_version": "1.5.0",
            "_view_name": "HTMLView",
            "description": "",
            "description_tooltip": null,
            "layout": "IPY_MODEL_ac0486be4bd34e9eb79fadbc162956dc",
            "placeholder": "​",
            "style": "IPY_MODEL_6dba8454357f45f490642a7a5daee590",
            "value": " 99%"
          }
        },
        "d92a75969a214b44b4ff4e75fd480de2": {
          "model_module": "@jupyter-widgets/controls",
          "model_name": "FloatProgressModel",
          "model_module_version": "1.5.0",
          "state": {
            "_dom_classes": [],
            "_model_module": "@jupyter-widgets/controls",
            "_model_module_version": "1.5.0",
            "_model_name": "FloatProgressModel",
            "_view_count": null,
            "_view_module": "@jupyter-widgets/controls",
            "_view_module_version": "1.5.0",
            "_view_name": "ProgressView",
            "bar_style": "",
            "description": "",
            "description_tooltip": null,
            "layout": "IPY_MODEL_a9af0bc7259d4f7c8628f52671bb0711",
            "max": 625,
            "min": 0,
            "orientation": "horizontal",
            "style": "IPY_MODEL_3e67de60fedf4315a2c467b8aafe8d99",
            "value": 625
          }
        },
        "97e028e8fe4445a881ceb7fee06c3fcf": {
          "model_module": "@jupyter-widgets/controls",
          "model_name": "HTMLModel",
          "model_module_version": "1.5.0",
          "state": {
            "_dom_classes": [],
            "_model_module": "@jupyter-widgets/controls",
            "_model_module_version": "1.5.0",
            "_model_name": "HTMLModel",
            "_view_count": null,
            "_view_module": "@jupyter-widgets/controls",
            "_view_module_version": "1.5.0",
            "_view_name": "HTMLView",
            "description": "",
            "description_tooltip": null,
            "layout": "IPY_MODEL_840c994109ee40429efc37ff6ab22e26",
            "placeholder": "​",
            "style": "IPY_MODEL_1d0ccb61b5c6446187ed02e17e4b749f",
            "value": " 618/625 [00:01&lt;00:00, 485.08it/s]"
          }
        },
        "5185820e48394c1c8492f102df370be7": {
          "model_module": "@jupyter-widgets/base",
          "model_name": "LayoutModel",
          "model_module_version": "1.2.0",
          "state": {
            "_model_module": "@jupyter-widgets/base",
            "_model_module_version": "1.2.0",
            "_model_name": "LayoutModel",
            "_view_count": null,
            "_view_module": "@jupyter-widgets/base",
            "_view_module_version": "1.2.0",
            "_view_name": "LayoutView",
            "align_content": null,
            "align_items": null,
            "align_self": null,
            "border": null,
            "bottom": null,
            "display": null,
            "flex": null,
            "flex_flow": null,
            "grid_area": null,
            "grid_auto_columns": null,
            "grid_auto_flow": null,
            "grid_auto_rows": null,
            "grid_column": null,
            "grid_gap": null,
            "grid_row": null,
            "grid_template_areas": null,
            "grid_template_columns": null,
            "grid_template_rows": null,
            "height": null,
            "justify_content": null,
            "justify_items": null,
            "left": null,
            "margin": null,
            "max_height": null,
            "max_width": null,
            "min_height": null,
            "min_width": null,
            "object_fit": null,
            "object_position": null,
            "order": null,
            "overflow": null,
            "overflow_x": null,
            "overflow_y": null,
            "padding": null,
            "right": null,
            "top": null,
            "visibility": "hidden",
            "width": null
          }
        },
        "ac0486be4bd34e9eb79fadbc162956dc": {
          "model_module": "@jupyter-widgets/base",
          "model_name": "LayoutModel",
          "model_module_version": "1.2.0",
          "state": {
            "_model_module": "@jupyter-widgets/base",
            "_model_module_version": "1.2.0",
            "_model_name": "LayoutModel",
            "_view_count": null,
            "_view_module": "@jupyter-widgets/base",
            "_view_module_version": "1.2.0",
            "_view_name": "LayoutView",
            "align_content": null,
            "align_items": null,
            "align_self": null,
            "border": null,
            "bottom": null,
            "display": null,
            "flex": null,
            "flex_flow": null,
            "grid_area": null,
            "grid_auto_columns": null,
            "grid_auto_flow": null,
            "grid_auto_rows": null,
            "grid_column": null,
            "grid_gap": null,
            "grid_row": null,
            "grid_template_areas": null,
            "grid_template_columns": null,
            "grid_template_rows": null,
            "height": null,
            "justify_content": null,
            "justify_items": null,
            "left": null,
            "margin": null,
            "max_height": null,
            "max_width": null,
            "min_height": null,
            "min_width": null,
            "object_fit": null,
            "object_position": null,
            "order": null,
            "overflow": null,
            "overflow_x": null,
            "overflow_y": null,
            "padding": null,
            "right": null,
            "top": null,
            "visibility": null,
            "width": null
          }
        },
        "6dba8454357f45f490642a7a5daee590": {
          "model_module": "@jupyter-widgets/controls",
          "model_name": "DescriptionStyleModel",
          "model_module_version": "1.5.0",
          "state": {
            "_model_module": "@jupyter-widgets/controls",
            "_model_module_version": "1.5.0",
            "_model_name": "DescriptionStyleModel",
            "_view_count": null,
            "_view_module": "@jupyter-widgets/base",
            "_view_module_version": "1.2.0",
            "_view_name": "StyleView",
            "description_width": ""
          }
        },
        "a9af0bc7259d4f7c8628f52671bb0711": {
          "model_module": "@jupyter-widgets/base",
          "model_name": "LayoutModel",
          "model_module_version": "1.2.0",
          "state": {
            "_model_module": "@jupyter-widgets/base",
            "_model_module_version": "1.2.0",
            "_model_name": "LayoutModel",
            "_view_count": null,
            "_view_module": "@jupyter-widgets/base",
            "_view_module_version": "1.2.0",
            "_view_name": "LayoutView",
            "align_content": null,
            "align_items": null,
            "align_self": null,
            "border": null,
            "bottom": null,
            "display": null,
            "flex": null,
            "flex_flow": null,
            "grid_area": null,
            "grid_auto_columns": null,
            "grid_auto_flow": null,
            "grid_auto_rows": null,
            "grid_column": null,
            "grid_gap": null,
            "grid_row": null,
            "grid_template_areas": null,
            "grid_template_columns": null,
            "grid_template_rows": null,
            "height": null,
            "justify_content": null,
            "justify_items": null,
            "left": null,
            "margin": null,
            "max_height": null,
            "max_width": null,
            "min_height": null,
            "min_width": null,
            "object_fit": null,
            "object_position": null,
            "order": null,
            "overflow": null,
            "overflow_x": null,
            "overflow_y": null,
            "padding": null,
            "right": null,
            "top": null,
            "visibility": null,
            "width": null
          }
        },
        "3e67de60fedf4315a2c467b8aafe8d99": {
          "model_module": "@jupyter-widgets/controls",
          "model_name": "ProgressStyleModel",
          "model_module_version": "1.5.0",
          "state": {
            "_model_module": "@jupyter-widgets/controls",
            "_model_module_version": "1.5.0",
            "_model_name": "ProgressStyleModel",
            "_view_count": null,
            "_view_module": "@jupyter-widgets/base",
            "_view_module_version": "1.2.0",
            "_view_name": "StyleView",
            "bar_color": null,
            "description_width": ""
          }
        },
        "840c994109ee40429efc37ff6ab22e26": {
          "model_module": "@jupyter-widgets/base",
          "model_name": "LayoutModel",
          "model_module_version": "1.2.0",
          "state": {
            "_model_module": "@jupyter-widgets/base",
            "_model_module_version": "1.2.0",
            "_model_name": "LayoutModel",
            "_view_count": null,
            "_view_module": "@jupyter-widgets/base",
            "_view_module_version": "1.2.0",
            "_view_name": "LayoutView",
            "align_content": null,
            "align_items": null,
            "align_self": null,
            "border": null,
            "bottom": null,
            "display": null,
            "flex": null,
            "flex_flow": null,
            "grid_area": null,
            "grid_auto_columns": null,
            "grid_auto_flow": null,
            "grid_auto_rows": null,
            "grid_column": null,
            "grid_gap": null,
            "grid_row": null,
            "grid_template_areas": null,
            "grid_template_columns": null,
            "grid_template_rows": null,
            "height": null,
            "justify_content": null,
            "justify_items": null,
            "left": null,
            "margin": null,
            "max_height": null,
            "max_width": null,
            "min_height": null,
            "min_width": null,
            "object_fit": null,
            "object_position": null,
            "order": null,
            "overflow": null,
            "overflow_x": null,
            "overflow_y": null,
            "padding": null,
            "right": null,
            "top": null,
            "visibility": null,
            "width": null
          }
        },
        "1d0ccb61b5c6446187ed02e17e4b749f": {
          "model_module": "@jupyter-widgets/controls",
          "model_name": "DescriptionStyleModel",
          "model_module_version": "1.5.0",
          "state": {
            "_model_module": "@jupyter-widgets/controls",
            "_model_module_version": "1.5.0",
            "_model_name": "DescriptionStyleModel",
            "_view_count": null,
            "_view_module": "@jupyter-widgets/base",
            "_view_module_version": "1.2.0",
            "_view_name": "StyleView",
            "description_width": ""
          }
        },
        "9f6aa343026543a5af7c914d942b1cee": {
          "model_module": "@jupyter-widgets/controls",
          "model_name": "HBoxModel",
          "model_module_version": "1.5.0",
          "state": {
            "_dom_classes": [],
            "_model_module": "@jupyter-widgets/controls",
            "_model_module_version": "1.5.0",
            "_model_name": "HBoxModel",
            "_view_count": null,
            "_view_module": "@jupyter-widgets/controls",
            "_view_module_version": "1.5.0",
            "_view_name": "HBoxView",
            "box_style": "",
            "children": [
              "IPY_MODEL_1802e0a700724a07a6b5ea323674899c",
              "IPY_MODEL_64c1704236e84506ab9a4c485c3583ea",
              "IPY_MODEL_ad2d2131c48c4f009a4c6dcd018302d0"
            ],
            "layout": "IPY_MODEL_519aec06e5964ed8b7a0d0c14f7dbf68"
          }
        },
        "1802e0a700724a07a6b5ea323674899c": {
          "model_module": "@jupyter-widgets/controls",
          "model_name": "HTMLModel",
          "model_module_version": "1.5.0",
          "state": {
            "_dom_classes": [],
            "_model_module": "@jupyter-widgets/controls",
            "_model_module_version": "1.5.0",
            "_model_name": "HTMLModel",
            "_view_count": null,
            "_view_module": "@jupyter-widgets/controls",
            "_view_module_version": "1.5.0",
            "_view_name": "HTMLView",
            "description": "",
            "description_tooltip": null,
            "layout": "IPY_MODEL_617fc8ae5cf3424cb01aba4f57c67c74",
            "placeholder": "​",
            "style": "IPY_MODEL_f9584630bded423aac5958f6c12bf82c",
            "value": "100%"
          }
        },
        "64c1704236e84506ab9a4c485c3583ea": {
          "model_module": "@jupyter-widgets/controls",
          "model_name": "FloatProgressModel",
          "model_module_version": "1.5.0",
          "state": {
            "_dom_classes": [],
            "_model_module": "@jupyter-widgets/controls",
            "_model_module_version": "1.5.0",
            "_model_name": "FloatProgressModel",
            "_view_count": null,
            "_view_module": "@jupyter-widgets/controls",
            "_view_module_version": "1.5.0",
            "_view_name": "ProgressView",
            "bar_style": "",
            "description": "",
            "description_tooltip": null,
            "layout": "IPY_MODEL_da272f7bb8224ef8b552849535da9d28",
            "max": 7500,
            "min": 0,
            "orientation": "horizontal",
            "style": "IPY_MODEL_501702d7177e448a892573c01ce1721c",
            "value": 7500
          }
        },
        "ad2d2131c48c4f009a4c6dcd018302d0": {
          "model_module": "@jupyter-widgets/controls",
          "model_name": "HTMLModel",
          "model_module_version": "1.5.0",
          "state": {
            "_dom_classes": [],
            "_model_module": "@jupyter-widgets/controls",
            "_model_module_version": "1.5.0",
            "_model_name": "HTMLModel",
            "_view_count": null,
            "_view_module": "@jupyter-widgets/controls",
            "_view_module_version": "1.5.0",
            "_view_name": "HTMLView",
            "description": "",
            "description_tooltip": null,
            "layout": "IPY_MODEL_6522264caf8446feb754992d593c9958",
            "placeholder": "​",
            "style": "IPY_MODEL_b7820106be19432d9b20979a5cccf2e4",
            "value": " 7487/7500 [00:21&lt;00:00, 315.90it/s]"
          }
        },
        "519aec06e5964ed8b7a0d0c14f7dbf68": {
          "model_module": "@jupyter-widgets/base",
          "model_name": "LayoutModel",
          "model_module_version": "1.2.0",
          "state": {
            "_model_module": "@jupyter-widgets/base",
            "_model_module_version": "1.2.0",
            "_model_name": "LayoutModel",
            "_view_count": null,
            "_view_module": "@jupyter-widgets/base",
            "_view_module_version": "1.2.0",
            "_view_name": "LayoutView",
            "align_content": null,
            "align_items": null,
            "align_self": null,
            "border": null,
            "bottom": null,
            "display": null,
            "flex": null,
            "flex_flow": null,
            "grid_area": null,
            "grid_auto_columns": null,
            "grid_auto_flow": null,
            "grid_auto_rows": null,
            "grid_column": null,
            "grid_gap": null,
            "grid_row": null,
            "grid_template_areas": null,
            "grid_template_columns": null,
            "grid_template_rows": null,
            "height": null,
            "justify_content": null,
            "justify_items": null,
            "left": null,
            "margin": null,
            "max_height": null,
            "max_width": null,
            "min_height": null,
            "min_width": null,
            "object_fit": null,
            "object_position": null,
            "order": null,
            "overflow": null,
            "overflow_x": null,
            "overflow_y": null,
            "padding": null,
            "right": null,
            "top": null,
            "visibility": "hidden",
            "width": null
          }
        },
        "617fc8ae5cf3424cb01aba4f57c67c74": {
          "model_module": "@jupyter-widgets/base",
          "model_name": "LayoutModel",
          "model_module_version": "1.2.0",
          "state": {
            "_model_module": "@jupyter-widgets/base",
            "_model_module_version": "1.2.0",
            "_model_name": "LayoutModel",
            "_view_count": null,
            "_view_module": "@jupyter-widgets/base",
            "_view_module_version": "1.2.0",
            "_view_name": "LayoutView",
            "align_content": null,
            "align_items": null,
            "align_self": null,
            "border": null,
            "bottom": null,
            "display": null,
            "flex": null,
            "flex_flow": null,
            "grid_area": null,
            "grid_auto_columns": null,
            "grid_auto_flow": null,
            "grid_auto_rows": null,
            "grid_column": null,
            "grid_gap": null,
            "grid_row": null,
            "grid_template_areas": null,
            "grid_template_columns": null,
            "grid_template_rows": null,
            "height": null,
            "justify_content": null,
            "justify_items": null,
            "left": null,
            "margin": null,
            "max_height": null,
            "max_width": null,
            "min_height": null,
            "min_width": null,
            "object_fit": null,
            "object_position": null,
            "order": null,
            "overflow": null,
            "overflow_x": null,
            "overflow_y": null,
            "padding": null,
            "right": null,
            "top": null,
            "visibility": null,
            "width": null
          }
        },
        "f9584630bded423aac5958f6c12bf82c": {
          "model_module": "@jupyter-widgets/controls",
          "model_name": "DescriptionStyleModel",
          "model_module_version": "1.5.0",
          "state": {
            "_model_module": "@jupyter-widgets/controls",
            "_model_module_version": "1.5.0",
            "_model_name": "DescriptionStyleModel",
            "_view_count": null,
            "_view_module": "@jupyter-widgets/base",
            "_view_module_version": "1.2.0",
            "_view_name": "StyleView",
            "description_width": ""
          }
        },
        "da272f7bb8224ef8b552849535da9d28": {
          "model_module": "@jupyter-widgets/base",
          "model_name": "LayoutModel",
          "model_module_version": "1.2.0",
          "state": {
            "_model_module": "@jupyter-widgets/base",
            "_model_module_version": "1.2.0",
            "_model_name": "LayoutModel",
            "_view_count": null,
            "_view_module": "@jupyter-widgets/base",
            "_view_module_version": "1.2.0",
            "_view_name": "LayoutView",
            "align_content": null,
            "align_items": null,
            "align_self": null,
            "border": null,
            "bottom": null,
            "display": null,
            "flex": null,
            "flex_flow": null,
            "grid_area": null,
            "grid_auto_columns": null,
            "grid_auto_flow": null,
            "grid_auto_rows": null,
            "grid_column": null,
            "grid_gap": null,
            "grid_row": null,
            "grid_template_areas": null,
            "grid_template_columns": null,
            "grid_template_rows": null,
            "height": null,
            "justify_content": null,
            "justify_items": null,
            "left": null,
            "margin": null,
            "max_height": null,
            "max_width": null,
            "min_height": null,
            "min_width": null,
            "object_fit": null,
            "object_position": null,
            "order": null,
            "overflow": null,
            "overflow_x": null,
            "overflow_y": null,
            "padding": null,
            "right": null,
            "top": null,
            "visibility": null,
            "width": null
          }
        },
        "501702d7177e448a892573c01ce1721c": {
          "model_module": "@jupyter-widgets/controls",
          "model_name": "ProgressStyleModel",
          "model_module_version": "1.5.0",
          "state": {
            "_model_module": "@jupyter-widgets/controls",
            "_model_module_version": "1.5.0",
            "_model_name": "ProgressStyleModel",
            "_view_count": null,
            "_view_module": "@jupyter-widgets/base",
            "_view_module_version": "1.2.0",
            "_view_name": "StyleView",
            "bar_color": null,
            "description_width": ""
          }
        },
        "6522264caf8446feb754992d593c9958": {
          "model_module": "@jupyter-widgets/base",
          "model_name": "LayoutModel",
          "model_module_version": "1.2.0",
          "state": {
            "_model_module": "@jupyter-widgets/base",
            "_model_module_version": "1.2.0",
            "_model_name": "LayoutModel",
            "_view_count": null,
            "_view_module": "@jupyter-widgets/base",
            "_view_module_version": "1.2.0",
            "_view_name": "LayoutView",
            "align_content": null,
            "align_items": null,
            "align_self": null,
            "border": null,
            "bottom": null,
            "display": null,
            "flex": null,
            "flex_flow": null,
            "grid_area": null,
            "grid_auto_columns": null,
            "grid_auto_flow": null,
            "grid_auto_rows": null,
            "grid_column": null,
            "grid_gap": null,
            "grid_row": null,
            "grid_template_areas": null,
            "grid_template_columns": null,
            "grid_template_rows": null,
            "height": null,
            "justify_content": null,
            "justify_items": null,
            "left": null,
            "margin": null,
            "max_height": null,
            "max_width": null,
            "min_height": null,
            "min_width": null,
            "object_fit": null,
            "object_position": null,
            "order": null,
            "overflow": null,
            "overflow_x": null,
            "overflow_y": null,
            "padding": null,
            "right": null,
            "top": null,
            "visibility": null,
            "width": null
          }
        },
        "b7820106be19432d9b20979a5cccf2e4": {
          "model_module": "@jupyter-widgets/controls",
          "model_name": "DescriptionStyleModel",
          "model_module_version": "1.5.0",
          "state": {
            "_model_module": "@jupyter-widgets/controls",
            "_model_module_version": "1.5.0",
            "_model_name": "DescriptionStyleModel",
            "_view_count": null,
            "_view_module": "@jupyter-widgets/base",
            "_view_module_version": "1.2.0",
            "_view_name": "StyleView",
            "description_width": ""
          }
        },
        "599a4cf7760647319ecd2ee92cf30496": {
          "model_module": "@jupyter-widgets/controls",
          "model_name": "HBoxModel",
          "model_module_version": "1.5.0",
          "state": {
            "_dom_classes": [],
            "_model_module": "@jupyter-widgets/controls",
            "_model_module_version": "1.5.0",
            "_model_name": "HBoxModel",
            "_view_count": null,
            "_view_module": "@jupyter-widgets/controls",
            "_view_module_version": "1.5.0",
            "_view_name": "HBoxView",
            "box_style": "",
            "children": [
              "IPY_MODEL_513c197bfe6143a2b8662a57b59510e1",
              "IPY_MODEL_0306c124c5c7430e85e591920ab02ab7",
              "IPY_MODEL_fc70d53dd3cc4cca988f2b0c13fd7b7c"
            ],
            "layout": "IPY_MODEL_b88f920cb70247458a3c7618af1e9772"
          }
        },
        "513c197bfe6143a2b8662a57b59510e1": {
          "model_module": "@jupyter-widgets/controls",
          "model_name": "HTMLModel",
          "model_module_version": "1.5.0",
          "state": {
            "_dom_classes": [],
            "_model_module": "@jupyter-widgets/controls",
            "_model_module_version": "1.5.0",
            "_model_name": "HTMLModel",
            "_view_count": null,
            "_view_module": "@jupyter-widgets/controls",
            "_view_module_version": "1.5.0",
            "_view_name": "HTMLView",
            "description": "",
            "description_tooltip": null,
            "layout": "IPY_MODEL_6c4c2576c6cc4e74889600d798d42fdf",
            "placeholder": "​",
            "style": "IPY_MODEL_5e604100b1a8496f99a7b27657a01d15",
            "value": " 93%"
          }
        },
        "0306c124c5c7430e85e591920ab02ab7": {
          "model_module": "@jupyter-widgets/controls",
          "model_name": "FloatProgressModel",
          "model_module_version": "1.5.0",
          "state": {
            "_dom_classes": [],
            "_model_module": "@jupyter-widgets/controls",
            "_model_module_version": "1.5.0",
            "_model_name": "FloatProgressModel",
            "_view_count": null,
            "_view_module": "@jupyter-widgets/controls",
            "_view_module_version": "1.5.0",
            "_view_name": "ProgressView",
            "bar_style": "",
            "description": "",
            "description_tooltip": null,
            "layout": "IPY_MODEL_8a3cb5ccb2624510b5378678bd52eab1",
            "max": 625,
            "min": 0,
            "orientation": "horizontal",
            "style": "IPY_MODEL_03a54a1fa990447ebcf51c4e135984a7",
            "value": 625
          }
        },
        "fc70d53dd3cc4cca988f2b0c13fd7b7c": {
          "model_module": "@jupyter-widgets/controls",
          "model_name": "HTMLModel",
          "model_module_version": "1.5.0",
          "state": {
            "_dom_classes": [],
            "_model_module": "@jupyter-widgets/controls",
            "_model_module_version": "1.5.0",
            "_model_name": "HTMLModel",
            "_view_count": null,
            "_view_module": "@jupyter-widgets/controls",
            "_view_module_version": "1.5.0",
            "_view_name": "HTMLView",
            "description": "",
            "description_tooltip": null,
            "layout": "IPY_MODEL_0107e864601546ec92c156b92f0a10a4",
            "placeholder": "​",
            "style": "IPY_MODEL_7a0f170a121e4a63a62829e4a8f2c694",
            "value": " 582/625 [00:01&lt;00:00, 367.94it/s]"
          }
        },
        "b88f920cb70247458a3c7618af1e9772": {
          "model_module": "@jupyter-widgets/base",
          "model_name": "LayoutModel",
          "model_module_version": "1.2.0",
          "state": {
            "_model_module": "@jupyter-widgets/base",
            "_model_module_version": "1.2.0",
            "_model_name": "LayoutModel",
            "_view_count": null,
            "_view_module": "@jupyter-widgets/base",
            "_view_module_version": "1.2.0",
            "_view_name": "LayoutView",
            "align_content": null,
            "align_items": null,
            "align_self": null,
            "border": null,
            "bottom": null,
            "display": null,
            "flex": null,
            "flex_flow": null,
            "grid_area": null,
            "grid_auto_columns": null,
            "grid_auto_flow": null,
            "grid_auto_rows": null,
            "grid_column": null,
            "grid_gap": null,
            "grid_row": null,
            "grid_template_areas": null,
            "grid_template_columns": null,
            "grid_template_rows": null,
            "height": null,
            "justify_content": null,
            "justify_items": null,
            "left": null,
            "margin": null,
            "max_height": null,
            "max_width": null,
            "min_height": null,
            "min_width": null,
            "object_fit": null,
            "object_position": null,
            "order": null,
            "overflow": null,
            "overflow_x": null,
            "overflow_y": null,
            "padding": null,
            "right": null,
            "top": null,
            "visibility": "hidden",
            "width": null
          }
        },
        "6c4c2576c6cc4e74889600d798d42fdf": {
          "model_module": "@jupyter-widgets/base",
          "model_name": "LayoutModel",
          "model_module_version": "1.2.0",
          "state": {
            "_model_module": "@jupyter-widgets/base",
            "_model_module_version": "1.2.0",
            "_model_name": "LayoutModel",
            "_view_count": null,
            "_view_module": "@jupyter-widgets/base",
            "_view_module_version": "1.2.0",
            "_view_name": "LayoutView",
            "align_content": null,
            "align_items": null,
            "align_self": null,
            "border": null,
            "bottom": null,
            "display": null,
            "flex": null,
            "flex_flow": null,
            "grid_area": null,
            "grid_auto_columns": null,
            "grid_auto_flow": null,
            "grid_auto_rows": null,
            "grid_column": null,
            "grid_gap": null,
            "grid_row": null,
            "grid_template_areas": null,
            "grid_template_columns": null,
            "grid_template_rows": null,
            "height": null,
            "justify_content": null,
            "justify_items": null,
            "left": null,
            "margin": null,
            "max_height": null,
            "max_width": null,
            "min_height": null,
            "min_width": null,
            "object_fit": null,
            "object_position": null,
            "order": null,
            "overflow": null,
            "overflow_x": null,
            "overflow_y": null,
            "padding": null,
            "right": null,
            "top": null,
            "visibility": null,
            "width": null
          }
        },
        "5e604100b1a8496f99a7b27657a01d15": {
          "model_module": "@jupyter-widgets/controls",
          "model_name": "DescriptionStyleModel",
          "model_module_version": "1.5.0",
          "state": {
            "_model_module": "@jupyter-widgets/controls",
            "_model_module_version": "1.5.0",
            "_model_name": "DescriptionStyleModel",
            "_view_count": null,
            "_view_module": "@jupyter-widgets/base",
            "_view_module_version": "1.2.0",
            "_view_name": "StyleView",
            "description_width": ""
          }
        },
        "8a3cb5ccb2624510b5378678bd52eab1": {
          "model_module": "@jupyter-widgets/base",
          "model_name": "LayoutModel",
          "model_module_version": "1.2.0",
          "state": {
            "_model_module": "@jupyter-widgets/base",
            "_model_module_version": "1.2.0",
            "_model_name": "LayoutModel",
            "_view_count": null,
            "_view_module": "@jupyter-widgets/base",
            "_view_module_version": "1.2.0",
            "_view_name": "LayoutView",
            "align_content": null,
            "align_items": null,
            "align_self": null,
            "border": null,
            "bottom": null,
            "display": null,
            "flex": null,
            "flex_flow": null,
            "grid_area": null,
            "grid_auto_columns": null,
            "grid_auto_flow": null,
            "grid_auto_rows": null,
            "grid_column": null,
            "grid_gap": null,
            "grid_row": null,
            "grid_template_areas": null,
            "grid_template_columns": null,
            "grid_template_rows": null,
            "height": null,
            "justify_content": null,
            "justify_items": null,
            "left": null,
            "margin": null,
            "max_height": null,
            "max_width": null,
            "min_height": null,
            "min_width": null,
            "object_fit": null,
            "object_position": null,
            "order": null,
            "overflow": null,
            "overflow_x": null,
            "overflow_y": null,
            "padding": null,
            "right": null,
            "top": null,
            "visibility": null,
            "width": null
          }
        },
        "03a54a1fa990447ebcf51c4e135984a7": {
          "model_module": "@jupyter-widgets/controls",
          "model_name": "ProgressStyleModel",
          "model_module_version": "1.5.0",
          "state": {
            "_model_module": "@jupyter-widgets/controls",
            "_model_module_version": "1.5.0",
            "_model_name": "ProgressStyleModel",
            "_view_count": null,
            "_view_module": "@jupyter-widgets/base",
            "_view_module_version": "1.2.0",
            "_view_name": "StyleView",
            "bar_color": null,
            "description_width": ""
          }
        },
        "0107e864601546ec92c156b92f0a10a4": {
          "model_module": "@jupyter-widgets/base",
          "model_name": "LayoutModel",
          "model_module_version": "1.2.0",
          "state": {
            "_model_module": "@jupyter-widgets/base",
            "_model_module_version": "1.2.0",
            "_model_name": "LayoutModel",
            "_view_count": null,
            "_view_module": "@jupyter-widgets/base",
            "_view_module_version": "1.2.0",
            "_view_name": "LayoutView",
            "align_content": null,
            "align_items": null,
            "align_self": null,
            "border": null,
            "bottom": null,
            "display": null,
            "flex": null,
            "flex_flow": null,
            "grid_area": null,
            "grid_auto_columns": null,
            "grid_auto_flow": null,
            "grid_auto_rows": null,
            "grid_column": null,
            "grid_gap": null,
            "grid_row": null,
            "grid_template_areas": null,
            "grid_template_columns": null,
            "grid_template_rows": null,
            "height": null,
            "justify_content": null,
            "justify_items": null,
            "left": null,
            "margin": null,
            "max_height": null,
            "max_width": null,
            "min_height": null,
            "min_width": null,
            "object_fit": null,
            "object_position": null,
            "order": null,
            "overflow": null,
            "overflow_x": null,
            "overflow_y": null,
            "padding": null,
            "right": null,
            "top": null,
            "visibility": null,
            "width": null
          }
        },
        "7a0f170a121e4a63a62829e4a8f2c694": {
          "model_module": "@jupyter-widgets/controls",
          "model_name": "DescriptionStyleModel",
          "model_module_version": "1.5.0",
          "state": {
            "_model_module": "@jupyter-widgets/controls",
            "_model_module_version": "1.5.0",
            "_model_name": "DescriptionStyleModel",
            "_view_count": null,
            "_view_module": "@jupyter-widgets/base",
            "_view_module_version": "1.2.0",
            "_view_name": "StyleView",
            "description_width": ""
          }
        }
      }
    }
  },
  "nbformat": 4,
  "nbformat_minor": 0
}